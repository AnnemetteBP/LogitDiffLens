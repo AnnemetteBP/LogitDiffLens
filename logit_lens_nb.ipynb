{
 "cells": [
  {
   "cell_type": "markdown",
   "id": "8a21ec2e",
   "metadata": {},
   "source": [
    "# -------------------------------\n",
    "# MI Logit Lens Notebook\n",
    "# -------------------------------"
   ]
  },
  {
   "cell_type": "code",
   "execution_count": null,
   "id": "4abd130c",
   "metadata": {},
   "outputs": [],
   "source": [
    "from pathlib import Path\n",
    "from datasets import load_dataset, DownloadMode\n",
    "import torch\n",
    "from transformers import AutoModelForCausalLM, AutoTokenizer, BitsAndBytesConfig\n",
    "import numpy as np\n",
    "import pandas as pd\n",
    "import matplotlib.pyplot as plt\n",
    "import seaborn as sns\n",
    "\n",
    "from quant_configs.bnb_configs import load_bnb_in_4bit\n",
    "from mi_utils.util.logit_lens_utils.logit_lens_wrapper import LogitLensWrapper\n",
    "from mi_utils.logit_lens.logit_lens_analysis import run_logit_lens\n",
    "from mi_utils.logit_lens.metric_utils.carry_over_safe_metrics import get_carry_over_safe_with_embedding, compute_carry_over_safe_partitioned"
   ]
  },
  {
   "cell_type": "markdown",
   "id": "076bac63",
   "metadata": {},
   "source": [
    "# -------------------------------\n",
    "# Models\n",
    "# -------------------------------"
   ]
  },
  {
   "cell_type": "code",
   "execution_count": null,
   "id": "c3693486",
   "metadata": {},
   "outputs": [],
   "source": [
    "from enum import Enum\n",
    "\n",
    "class Models(Enum):\n",
    "    #GPT2 = \"Models/GPT2\"\n",
    "    LAIN8B = \"Models/LLaMA3Instruct\"\n",
    "    HF100B = \"Models/HF1BitLLM100Btokens\"\n",
    "    HF10BL = \"Models/HF1BitLLMLinear10B\"\n",
    "    HF10BS = \"Models/HF1BitLLMSigmoid10B\"\n",
    "    LAIN3B = \"Models/LLaMA3Instruct3B\"\n",
    "    DH3B = \"Models/DHLLaMA3B\"\n",
    "    DH8B = \"Models/DHLLaMA8B\"\n",
    "\n",
    "class Names(Enum):\n",
    "    #GPT2 = \"GPT2\"\n",
    "    LAIN8B = \"Meta-Llama-3-8B-Instruct\"\n",
    "    HF100B = \"Models/Llama3-8B-1.58-100B-tokens\"\n",
    "    HF10BL = \"Llama3-8B-1.58-Linear-10B-tokens\"\n",
    "    HF10BS = \"Llama3-8B-1.58-Sigmoid-k100-10B-tokens\"\n",
    "    LAIN3B = \"meta-llama/Llama-3.2-3B-Instruct\"\n",
    "    DH3B = \"DeepHermes-3-Llama-3-3B-Preview\"\n",
    "    DH8B = \"DeepHermes-3-Llama-3-8B-Preview\""
   ]
  },
  {
   "cell_type": "code",
   "execution_count": null,
   "id": "26795d55",
   "metadata": {},
   "outputs": [],
   "source": [
    "def load_model_and_tok(\n",
    "        model_name:str,\n",
    "        output_hidden_states:bool=True,\n",
    "        low_cpu_mem_usage:bool=True,\n",
    "        local_files_only:bool=True,\n",
    "        device_map:str=\"cuda\",\n",
    "        dtype=torch.bfloat16,\n",
    "        load_in_8bit=False\n",
    ") -> tuple[AutoModelForCausalLM, AutoTokenizer]:\n",
    "    \n",
    "    tok = AutoTokenizer.from_pretrained(model_name)\n",
    "\n",
    "    model = AutoModelForCausalLM.from_pretrained(\n",
    "    model_name,\n",
    "    #output_hidden_states=output_hidden_states,\n",
    "    low_cpu_mem_usage=low_cpu_mem_usage,\n",
    "    local_files_only=local_files_only,\n",
    "    device_map=device_map,\n",
    "    torch_dtype=dtype,\n",
    "    load_in_8bit=load_in_8bit\n",
    "    )\n",
    "\n",
    "    return model, tok"
   ]
  },
  {
   "cell_type": "code",
   "execution_count": null,
   "id": "4edc2292",
   "metadata": {},
   "outputs": [],
   "source": [
    "EPS = 1e-8 \n",
    "TOPK = 5\n",
    "\n",
    "#GPT_L = [\"final_layernorm\", \"lm_head\"]\n",
    "LLAMA_L = [\"norm\", \"lm_head\"]"
   ]
  },
  {
   "cell_type": "code",
   "execution_count": null,
   "id": "d579af40",
   "metadata": {},
   "outputs": [],
   "source": [
    "filepath = r'D:\\LogitLensData\\nq'\n",
    "\n",
    "destination_path = str(Path(filepath))\n",
    "nq_dataset = load_dataset(\n",
    "    'sentence-transformers/natural-questions',\n",
    "    split={\n",
    "        'train': 'train[:20]'\n",
    "    },\n",
    "    cache_dir=destination_path,\n",
    "    download_mode=DownloadMode.REUSE_DATASET_IF_EXISTS,\n",
    "    keep_in_memory=True\n",
    ")"
   ]
  },
  {
   "cell_type": "code",
   "execution_count": null,
   "id": "5de5f791",
   "metadata": {},
   "outputs": [],
   "source": [
    "#nq_queries = list(nq_dataset['train']['query'])\n",
    "#nq_answers = list(nq_dataset['train']['answer'])\n",
    "\n",
    "nq_queries = nq_dataset['train']['query']\n",
    "nq_answers = nq_dataset['train']['answer']"
   ]
  },
  {
   "cell_type": "code",
   "execution_count": null,
   "id": "5e883d12",
   "metadata": {},
   "outputs": [],
   "source": [
    "filepath = r'D:\\LogitLensData\\gsm8k'\n",
    "\n",
    "destination_path = str(Path(filepath))\n",
    "gsm8k_dataset = load_dataset(\n",
    "    'gsm8k', 'main',\n",
    "    split={\n",
    "        'train': 'train[:20]'\n",
    "    },\n",
    "    cache_dir=destination_path,\n",
    "    download_mode=DownloadMode.REUSE_DATASET_IF_EXISTS,\n",
    "    keep_in_memory=True\n",
    ")"
   ]
  },
  {
   "cell_type": "code",
   "execution_count": null,
   "id": "7d634db6",
   "metadata": {},
   "outputs": [],
   "source": [
    "gsm8k_questions = gsm8k_dataset['train']['question']\n",
    "gsm8k_answers = gsm8k_dataset['train']['answer']"
   ]
  },
  {
   "cell_type": "code",
   "execution_count": null,
   "id": "5630f4d1",
   "metadata": {},
   "outputs": [],
   "source": [
    "DATA_NQ = nq_queries\n",
    "DATA_GS = gsm8k_questions"
   ]
  },
  {
   "cell_type": "code",
   "execution_count": null,
   "id": "33d17df3",
   "metadata": {},
   "outputs": [],
   "source": [
    "dh3b_8bit, dh3b_8bit_tok = load_model_and_tok(Models.DH3B.value, device_map=\"cpu\", dtype=torch.float32, load_in_8bit=True)"
   ]
  },
  {
   "cell_type": "code",
   "execution_count": null,
   "id": "14c21e4e",
   "metadata": {},
   "outputs": [],
   "source": [
    "dh3b_4bit, dh3b_4bit_tok = load_bnb_in_4bit(Models.DH3B.value, device_map=\"cpu\")"
   ]
  },
  {
   "cell_type": "code",
   "execution_count": null,
   "id": "76c9fd58",
   "metadata": {},
   "outputs": [],
   "source": [
    "\"\"\"for name, param in model.named_parameters():\n",
    "    print(f\"{name}: {param.dtype}\")\"\"\""
   ]
  },
  {
   "cell_type": "code",
   "execution_count": null,
   "id": "3afde6d9",
   "metadata": {},
   "outputs": [],
   "source": [
    "bnb_wrapper = LogitLensWrapper(\n",
    "    model=dh3b_4bit,\n",
    "    tokenizer=dh3b_4bit_tok,\n",
    "    block_step=1,\n",
    "    include_input=True,\n",
    "    force_include_output=True,\n",
    "    include_subblocks=True,\n",
    "    decoder_layer_names=LLAMA_L,\n",
    "    device=\"cpu\",\n",
    "    max_len=16,\n",
    ")"
   ]
  },
  {
   "cell_type": "code",
   "execution_count": null,
   "id": "86fedb5c",
   "metadata": {},
   "outputs": [],
   "source": [
    "run_logit_lens(\n",
    "    wrapper=bnb_wrapper,\n",
    "    prompts=DATA_NQ,\n",
    "    model_name=\"dh3b_4bit\",\n",
    "    dataset_name=\"nq_queries\", # gsm8k_questions, nq_queries\n",
    "    topk=TOPK,\n",
    "    eps=EPS,\n",
    "    skip_input_layer= False, # True to skip embedding\n",
    "    include_final_norm=True,\n",
    "    save_layer_probs=False,\n",
    "    proj_precision=\"fp32\",\n",
    "    max_len=16\n",
    ")"
   ]
  },
  {
   "cell_type": "code",
   "execution_count": null,
   "id": "00d89afb",
   "metadata": {},
   "outputs": [],
   "source": [
    "import torch\n",
    "\n",
    "data = torch.load(\n",
    "    \"logs/logit_lens_logs/logit_lens_analysis/gsm8k_questions_llama3b_8bit.pt\",\n",
    "    weights_only=False \n",
    ")\n"
   ]
  },
  {
   "cell_type": "code",
   "execution_count": null,
   "id": "db8c9662",
   "metadata": {},
   "outputs": [],
   "source": [
    "import pandas as pd\n",
    "df = pd.DataFrame(data)"
   ]
  },
  {
   "cell_type": "code",
   "execution_count": null,
   "id": "700d4fe9",
   "metadata": {},
   "outputs": [],
   "source": [
    "get_carry_over_safe_with_embedding(df, topk=5, prefix='layers.')"
   ]
  },
  {
   "cell_type": "code",
   "execution_count": null,
   "id": "f6eb5788",
   "metadata": {},
   "outputs": [],
   "source": [
    "df.columns"
   ]
  },
  {
   "cell_type": "code",
   "execution_count": null,
   "id": "3ad389e0",
   "metadata": {},
   "outputs": [],
   "source": [
    "df[\"layer_name\"].unique()"
   ]
  },
  {
   "cell_type": "code",
   "execution_count": null,
   "id": "890229bf",
   "metadata": {},
   "outputs": [],
   "source": [
    "df[\"entropy_seq\"][2]"
   ]
  },
  {
   "cell_type": "code",
   "execution_count": null,
   "id": "96f4cc91",
   "metadata": {},
   "outputs": [],
   "source": [
    "df.head(2)"
   ]
  },
  {
   "cell_type": "code",
   "execution_count": null,
   "id": "fe2a936b",
   "metadata": {},
   "outputs": [],
   "source": [
    "df.isna().sum()"
   ]
  },
  {
   "cell_type": "code",
   "execution_count": null,
   "id": "b3c81966",
   "metadata": {},
   "outputs": [],
   "source": [
    "pos_inf_counts = df.apply(lambda col: (col == np.inf).sum())\n",
    "neg_inf_counts = df.apply(lambda col: (col == -np.inf).sum())\n",
    "print(f\"{neg_inf_counts}\\n{pos_inf_counts}\")"
   ]
  },
  {
   "cell_type": "code",
   "execution_count": null,
   "id": "a901f94f",
   "metadata": {},
   "outputs": [],
   "source": [
    "#model.save_pretrained(\"Models/\", safe_serialization=True)\n",
    "#tokenizer.save_pretrained(\"Models/\")"
   ]
  }
 ],
 "metadata": {
  "kernelspec": {
   "display_name": "logit-lens-env",
   "language": "python",
   "name": "python3"
  },
  "language_info": {
   "codemirror_mode": {
    "name": "ipython",
    "version": 3
   },
   "file_extension": ".py",
   "mimetype": "text/x-python",
   "name": "python",
   "nbconvert_exporter": "python",
   "pygments_lexer": "ipython3",
   "version": "3.10.12"
  }
 },
 "nbformat": 4,
 "nbformat_minor": 5
}
