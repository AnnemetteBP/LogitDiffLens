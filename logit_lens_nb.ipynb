{
 "cells": [
  {
   "cell_type": "markdown",
   "id": "8a21ec2e",
   "metadata": {},
   "source": [
    "# -------------------------------\n",
    "# MI Logit Lens Notebook\n",
    "# -------------------------------"
   ]
  },
  {
   "cell_type": "code",
   "execution_count": null,
   "id": "4abd130c",
   "metadata": {},
   "outputs": [],
   "source": [
    "from pathlib import Path\n",
    "from datasets import load_dataset, DownloadMode\n",
    "import torch\n",
    "from transformers import AutoModelForCausalLM, AutoTokenizer, BitsAndBytesConfig\n",
    "import numpy as np\n",
    "import pandas as pd\n",
    "import matplotlib.pyplot as plt\n",
    "import seaborn as sns\n",
    "\n",
    "from quant_configs.bnb_configs import load_bnb_in_8bit, load_bnb_in_4bit\n",
    "from mi_utils.util.logit_lens_utils.logit_lens_wrapper import LogitLensWrapper\n",
    "\n",
    "from mi_utils.logit_lens.logit_lens_degradation_analysis import (\n",
    "    analyze_UNSAFE_degradation,\n",
    "    analyze_SAFE_degradation,\n",
    ")\n",
    "\n",
    "from mi_utils.logit_lens.logit_lens_analysis import run_logit_lens\n",
    "\n",
    "from mi_utils.logit_lens.metric_utils.logit_lens_helpers import (\n",
    "    save_results_to_csv,\n",
    "    get_activation_tensor,\n",
    "    extract_activations,\n",
    "    load_results_from_pt\n",
    ")\n",
    "\n",
    "from mi_utils.logit_lens.metric_utils.interp_degradation_scores import (\n",
    "    degradation_diff_score,\n",
    "    interpretability_diff_score,\n",
    "    degradation_score\n",
    ")\n",
    "\n",
    "from mi_utils.logit_lens.plotting_utils.lens_plotting import (\n",
    "    plot_layer_metric_two_dfs,\n",
    "    plot_layer_deviation,\n",
    "    qq_plot_probs\n",
    ")\n",
    "\n",
    "from mi_utils.logit_lens.metric_utils.carry_over_safe_metrics import get_carry_over_safe_with_embedding"
   ]
  },
  {
   "cell_type": "markdown",
   "id": "076bac63",
   "metadata": {},
   "source": [
    "# -------------------------------\n",
    "# Models\n",
    "# -------------------------------"
   ]
  },
  {
   "cell_type": "code",
   "execution_count": null,
   "id": "c3693486",
   "metadata": {},
   "outputs": [],
   "source": [
    "from enum import Enum\n",
    "\n",
    "class Models(Enum):\n",
    "    GPT2 = \"Models/GPT2\"\n",
    "    LAIN8B = \"Models/LLaMA3Instruct\"\n",
    "    HF100B = \"Models/HF1BitLLM100Btokens\"\n",
    "    HF10BL = \"Models/HF1BitLLMLinear10B\"\n",
    "    HF10BS = \"Models/HF1BitLLMSigmoid10B\"\n",
    "    OL1B = \"Models/OLMo1B\"\n",
    "    OL7B = \"Models/OLMo1B\"\n",
    "    DH3B = \"DHLLaMA3B\"\n",
    "    DH8B = \"DHLLaMA8B\"\n",
    "\n",
    "class Names(Enum):\n",
    "    GPT2 = \"GPT2\"\n",
    "    LAIN8B = \"Meta-Llama-3-8B-Instruct\"\n",
    "    HF100B = \"Models/Llama3-8B-1.58-100B-tokens\"\n",
    "    HF10BL = \"Llama3-8B-1.58-Linear-10B-tokens\"\n",
    "    HF10BS = \"Llama3-8B-1.58-Sigmoid-k100-10B-tokens\"\n",
    "    OL1B = \"OLMo-1B-hf\"\n",
    "    OL7B = \"OLMo-7B-hf\"\n",
    "    DH3B = \"DeepHermes-3-Llama-3-3B-Preview\"\n",
    "    DH8B = \"DeepHermes-3-Llama-3-8B-Preview\""
   ]
  },
  {
   "cell_type": "code",
   "execution_count": null,
   "id": "26795d55",
   "metadata": {},
   "outputs": [],
   "source": [
    "def load_model_and_tok(\n",
    "        model_name:str,\n",
    "        output_hidden_states:bool=True,\n",
    "        low_cpu_mem_usage:bool=True,\n",
    "        local_files_only:bool=True,\n",
    "        device_map:str=\"cuda\",\n",
    "        dtype=torch.bfloat16,\n",
    "        load_in_8bit=False\n",
    ") -> tuple[AutoModelForCausalLM, AutoTokenizer]:\n",
    "    \n",
    "    tok = AutoTokenizer.from_pretrained(model_name)\n",
    "\n",
    "    model = AutoModelForCausalLM.from_pretrained(\n",
    "    model_name,\n",
    "    #output_hidden_states=output_hidden_states,\n",
    "    low_cpu_mem_usage=low_cpu_mem_usage,\n",
    "    local_files_only=local_files_only,\n",
    "    device_map=device_map,\n",
    "    torch_dtype=dtype,\n",
    "    load_in_8bit=load_in_8bit\n",
    "    )\n",
    "\n",
    "    return model, tok"
   ]
  },
  {
   "cell_type": "code",
   "execution_count": null,
   "id": "75587dea",
   "metadata": {},
   "outputs": [],
   "source": [
    "def save_fp_acts_to_pt(fp_acts, save_name:str) -> None:\n",
    "    fp_acts_to_save = {}\n",
    "    for lname, act in fp_acts.items():\n",
    "        fp_acts_to_save[lname] = {\n",
    "            \"hidden\": act[\"hidden\"].detach().cpu(),\n",
    "            \"mask\": act[\"mask\"].detach().cpu()\n",
    "        }\n",
    "\n",
    "    torch.save(fp_acts_to_save, f\"logs/cka_svcca_acts/{save_name}.pt\")\n",
    "\n",
    "def load_fp_acts(fp_acts_name:str):\n",
    "    fp_acts = torch.load(f\"logs/cka_svcca_acts/{fp_acts_name}.pt\")\n",
    "    return fp_acts"
   ]
  },
  {
   "cell_type": "markdown",
   "id": "65e6eade",
   "metadata": {},
   "source": [
    "# -------------------------------\n",
    "# Parameters & Datasets\n",
    "# -------------------------------"
   ]
  },
  {
   "cell_type": "code",
   "execution_count": null,
   "id": "a16dc6ee",
   "metadata": {},
   "outputs": [],
   "source": [
    "LL_DIR = \"logs/logit_lens_logs\"\n",
    "\n",
    "BATCH_DIR = f\"{LL_DIR}/batch_analysis\"\n",
    "INTERP_DIR = f\"{LL_DIR}/interp_analysis\"\n",
    "\n",
    "NQ_DIR = \"natural_questions\"\n",
    "GS_DIR = \"gsm8k\""
   ]
  },
  {
   "cell_type": "code",
   "execution_count": null,
   "id": "4edc2292",
   "metadata": {},
   "outputs": [],
   "source": [
    "EPS = 1e-8 \n",
    "TOPK = 5"
   ]
  },
  {
   "cell_type": "code",
   "execution_count": null,
   "id": "738abf36",
   "metadata": {},
   "outputs": [],
   "source": [
    "GPT_L = [\"final_layernorm\", \"lm_head\"]\n",
    "LLAMA_L = [\"norm\", \"lm_head\"]"
   ]
  },
  {
   "cell_type": "code",
   "execution_count": null,
   "id": "58eafd1d",
   "metadata": {},
   "outputs": [],
   "source": [
    "texts = [\"Hello world\", \"This is a test\"]"
   ]
  },
  {
   "cell_type": "code",
   "execution_count": null,
   "id": "d579af40",
   "metadata": {},
   "outputs": [],
   "source": [
    "filepath = r'D:\\LogitLensData\\nq'\n",
    "\n",
    "destination_path = str(Path(filepath))\n",
    "nq_dataset = load_dataset(\n",
    "    'sentence-transformers/natural-questions',\n",
    "    split={\n",
    "        'train': 'train[:20]'\n",
    "    },\n",
    "    cache_dir=destination_path,\n",
    "    download_mode=DownloadMode.REUSE_DATASET_IF_EXISTS,\n",
    "    keep_in_memory=True\n",
    ")"
   ]
  },
  {
   "cell_type": "code",
   "execution_count": null,
   "id": "25546dfa",
   "metadata": {},
   "outputs": [],
   "source": [
    "#nq_queries = list(nq_dataset['train']['query'])\n",
    "#nq_answers = list(nq_dataset['train']['answer'])"
   ]
  },
  {
   "cell_type": "code",
   "execution_count": null,
   "id": "5de5f791",
   "metadata": {},
   "outputs": [],
   "source": [
    "nq_queries = nq_dataset['train']['query']\n",
    "nq_answers = nq_dataset['train']['answer']"
   ]
  },
  {
   "cell_type": "code",
   "execution_count": null,
   "id": "5e883d12",
   "metadata": {},
   "outputs": [],
   "source": [
    "filepath = r'D:\\LogitLensData\\gsm8k'\n",
    "\n",
    "destination_path = str(Path(filepath))\n",
    "gsm8k_dataset = load_dataset(\n",
    "    'gsm8k', 'main',\n",
    "    split={\n",
    "        'train': 'train[:20]'\n",
    "    },\n",
    "    cache_dir=destination_path,\n",
    "    download_mode=DownloadMode.REUSE_DATASET_IF_EXISTS,\n",
    "    keep_in_memory=True\n",
    ")"
   ]
  },
  {
   "cell_type": "code",
   "execution_count": null,
   "id": "7d634db6",
   "metadata": {},
   "outputs": [],
   "source": [
    "gsm8k_questions = gsm8k_dataset['train']['question']\n",
    "gsm8k_answers = gsm8k_dataset['train']['answer']"
   ]
  },
  {
   "cell_type": "code",
   "execution_count": null,
   "id": "5630f4d1",
   "metadata": {},
   "outputs": [],
   "source": [
    "DATA = nq_queries"
   ]
  },
  {
   "cell_type": "markdown",
   "id": "16d636bc",
   "metadata": {},
   "source": [
    "# -------------------------------\n",
    "# Extract and save FP Activations for CKA/SVCCA\n",
    "# -------------------------------"
   ]
  },
  {
   "cell_type": "code",
   "execution_count": null,
   "id": "68036fab",
   "metadata": {},
   "outputs": [],
   "source": [
    "llama_fp, llama_tok = load_model_and_tok(Models.LAIN8B.value, device_map=\"cpu\", dtype=torch.float16)"
   ]
  },
  {
   "cell_type": "code",
   "execution_count": null,
   "id": "4ada6e18",
   "metadata": {},
   "outputs": [],
   "source": [
    "llama_8bit, llama8bit_tok = load_model_and_tok(Models.LAIN8B.value, device_map=\"cpu\", dtype=torch.float32, load_in_8bit=True)"
   ]
  },
  {
   "cell_type": "code",
   "execution_count": null,
   "id": "1526883e",
   "metadata": {},
   "outputs": [],
   "source": [
    "llama_4bit, llama4bit_tok = load_bnb_in_4bit(Models.LAIN8B.value, device_map=\"cpu\")"
   ]
  },
  {
   "cell_type": "code",
   "execution_count": null,
   "id": "c27777e5",
   "metadata": {},
   "outputs": [],
   "source": [
    "for name, param in llama_4bit.named_parameters():\n",
    "    print(f\"{name}: {param.dtype}\")\n"
   ]
  },
  {
   "cell_type": "code",
   "execution_count": null,
   "id": "2f9a7932",
   "metadata": {},
   "outputs": [],
   "source": [
    "llama_fp_wrapper = LogitLensWrapper(\n",
    "    model=llama_fp,\n",
    "    tokenizer=llama_tok,\n",
    "    block_step=1,\n",
    "    include_input=True,\n",
    "    force_include_output=True,\n",
    "    include_subblocks=True,\n",
    "    decoder_layer_names=LLAMA_L,\n",
    "    device=\"cpu\",\n",
    "    max_len=16,\n",
    ")"
   ]
  },
  {
   "cell_type": "code",
   "execution_count": null,
   "id": "3afde6d9",
   "metadata": {},
   "outputs": [],
   "source": [
    "llama_bnb_wrapper = LogitLensWrapper(\n",
    "    model=llama_4bit,\n",
    "    tokenizer=llama4bit_tok,\n",
    "    block_step=1,\n",
    "    include_input=True,\n",
    "    force_include_output=True,\n",
    "    include_subblocks=True,\n",
    "    decoder_layer_names=LLAMA_L,\n",
    "    device=\"cpu\",\n",
    "    max_len=16,\n",
    ")"
   ]
  },
  {
   "cell_type": "code",
   "execution_count": null,
   "id": "7065a696",
   "metadata": {},
   "outputs": [],
   "source": [
    "llama_fp_acts = extract_activations(wrapper=llama_fp_wrapper, prompts=nq_answers)"
   ]
  },
  {
   "cell_type": "code",
   "execution_count": null,
   "id": "9cfa24f4",
   "metadata": {},
   "outputs": [],
   "source": [
    "save_fp_acts_to_pt(llama_fp_acts, \"llama_fp_acts_nq_answers\")"
   ]
  },
  {
   "cell_type": "markdown",
   "id": "c9dd0648",
   "metadata": {},
   "source": [
    "# -------------------------------\n",
    "# 2. HF1BitLLM/Llama3-8B-1.58-100B-tokens\n",
    "# -------------------------------"
   ]
  },
  {
   "cell_type": "code",
   "execution_count": null,
   "id": "c676a9b7",
   "metadata": {},
   "outputs": [],
   "source": [
    "#hf100b_m, hf100b_tok = load_model_and_tok(Models.HF100B.value, dtype=torch.bfloat16)\n",
    "hf100b_m, hf100b_tok = load_model_and_tok(Models.HF100B.value, device_map=\"cpu\", dtype=torch.float32)"
   ]
  },
  {
   "cell_type": "code",
   "execution_count": null,
   "id": "27de56ce",
   "metadata": {},
   "outputs": [],
   "source": [
    "hfbl_m, hfbl_tok = load_model_and_tok(Models.HF10BL.value, device_map=\"cpu\", dtype=torch.float32)"
   ]
  },
  {
   "cell_type": "code",
   "execution_count": null,
   "id": "bc6fa842",
   "metadata": {},
   "outputs": [],
   "source": [
    "hfbs_m, hfbs_tok = load_model_and_tok(Models.HF10BS.value, device_map=\"cpu\", dtype=torch.float32)"
   ]
  },
  {
   "cell_type": "code",
   "execution_count": null,
   "id": "7ae18de6",
   "metadata": {},
   "outputs": [],
   "source": [
    "hf_wrapper = LogitLensWrapper(\n",
    "    model=hfbl_m,\n",
    "    tokenizer=hfbl_tok,\n",
    "    block_step=1,\n",
    "    include_input=True,\n",
    "    force_include_output=True,\n",
    "    include_subblocks=True,\n",
    "    decoder_layer_names=LLAMA_L, \n",
    "    device=\"cpu\",\n",
    "    max_len=16\n",
    ")"
   ]
  },
  {
   "cell_type": "code",
   "execution_count": null,
   "id": "86fedb5c",
   "metadata": {},
   "outputs": [],
   "source": [
    "run_logit_lens(\n",
    "    wrapper=hf_wrapper,\n",
    "    prompts=DATA,\n",
    "    model_name=\"llama_hfbl_m\",\n",
    "    dataset_name=\"nq_queries\",\n",
    "    topk=TOPK,\n",
    "    eps=EPS,\n",
    "    skip_input_layer= False, # True to skip embedding\n",
    "    include_final_norm=True,\n",
    "    save_layer_probs=False,\n",
    "    proj_precision=\"fp32\",\n",
    "    max_len=16\n",
    ")"
   ]
  },
  {
   "cell_type": "code",
   "execution_count": null,
   "id": "00d89afb",
   "metadata": {},
   "outputs": [],
   "source": [
    "import torch\n",
    "\n",
    "data = torch.load(\n",
    "    \"logs/logit_lens_logs/logit_lens_analysis/nq_queries_llama_hfbl_m.pt\",\n",
    "    weights_only=False \n",
    ")\n"
   ]
  },
  {
   "cell_type": "code",
   "execution_count": null,
   "id": "db8c9662",
   "metadata": {},
   "outputs": [],
   "source": [
    "import pandas as pd\n",
    "df = pd.DataFrame(data)"
   ]
  },
  {
   "cell_type": "code",
   "execution_count": null,
   "id": "700d4fe9",
   "metadata": {},
   "outputs": [],
   "source": [
    "get_carry_over_safe_with_embedding(df, topk=5, prefix='layers.')"
   ]
  },
  {
   "cell_type": "code",
   "execution_count": null,
   "id": "f6eb5788",
   "metadata": {},
   "outputs": [],
   "source": [
    "df.columns"
   ]
  },
  {
   "cell_type": "code",
   "execution_count": null,
   "id": "3ad389e0",
   "metadata": {},
   "outputs": [],
   "source": [
    "df[\"layer_name\"].unique()"
   ]
  },
  {
   "cell_type": "code",
   "execution_count": null,
   "id": "584af2b5",
   "metadata": {},
   "outputs": [],
   "source": [
    "df.columns"
   ]
  },
  {
   "cell_type": "code",
   "execution_count": null,
   "id": "890229bf",
   "metadata": {},
   "outputs": [],
   "source": [
    "df[\"entropy_seq\"][2]"
   ]
  },
  {
   "cell_type": "code",
   "execution_count": null,
   "id": "96f4cc91",
   "metadata": {},
   "outputs": [],
   "source": [
    "df.head(2)"
   ]
  },
  {
   "cell_type": "code",
   "execution_count": null,
   "id": "fe2a936b",
   "metadata": {},
   "outputs": [],
   "source": [
    "df.isna().sum()"
   ]
  },
  {
   "cell_type": "code",
   "execution_count": null,
   "id": "b3c81966",
   "metadata": {},
   "outputs": [],
   "source": [
    "pos_inf_counts = df.apply(lambda col: (col == np.inf).sum())\n",
    "neg_inf_counts = df.apply(lambda col: (col == -np.inf).sum())\n",
    "print(f\"{neg_inf_counts}\\n{pos_inf_counts}\")"
   ]
  },
  {
   "cell_type": "code",
   "execution_count": null,
   "id": "a901f94f",
   "metadata": {},
   "outputs": [],
   "source": [
    "#model.save_pretrained(\"Models/\", safe_serialization=True)\n",
    "#tokenizer.save_pretrained(\"Models/\")"
   ]
  }
 ],
 "metadata": {
  "kernelspec": {
   "display_name": "logit-lens-env",
   "language": "python",
   "name": "python3"
  },
  "language_info": {
   "codemirror_mode": {
    "name": "ipython",
    "version": 3
   },
   "file_extension": ".py",
   "mimetype": "text/x-python",
   "name": "python",
   "nbconvert_exporter": "python",
   "pygments_lexer": "ipython3",
   "version": "3.10.12"
  }
 },
 "nbformat": 4,
 "nbformat_minor": 5
}
