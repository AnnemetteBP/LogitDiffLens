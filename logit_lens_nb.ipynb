{
 "cells": [
  {
   "cell_type": "markdown",
   "id": "8a21ec2e",
   "metadata": {},
   "source": [
    "# -------------------------------\n",
    "# MI Logit Lens Notebook\n",
    "# -------------------------------"
   ]
  },
  {
   "cell_type": "code",
   "execution_count": 1,
   "id": "4abd130c",
   "metadata": {},
   "outputs": [],
   "source": [
    "import torch\n",
    "from transformers import AutoModelForCausalLM, AutoTokenizer, BitsAndBytesConfig\n",
    "from quant_configs.bnb_configs import load_bnb_in_8bit, load_bnb_in_4bit\n",
    "from mi_utils.util.logit_lens_utils.logit_lens_wrapper import LogitLensWrapper\n",
    "from mi_utils.logit_lens.logit_lens_interpretability import (\n",
    "    analyze_logit_lens_batch,\n",
    "    analyze_UNSAFE_interpretability,\n",
    "    analyze_SAFE_interpretability,\n",
    "    UNSAFE_interpretability_score\n",
    ")"
   ]
  },
  {
   "cell_type": "code",
   "execution_count": 2,
   "id": "c3693486",
   "metadata": {},
   "outputs": [],
   "source": [
    "from enum import Enum\n",
    "\n",
    "class Models(Enum):\n",
    "    GPT2 = \"Models/GPT2\"\n",
    "    INSTUCT8B = \"Models/LLaMA3Instruct\"\n",
    "    HF100B = \"Models/HF1BitLLM100Btokens\"\n",
    "    HF10BL = \"Models/HF1BitLLMLinear10B\"\n",
    "    HF10BS = \"Models/HF1BitLLMSigmoid10B\""
   ]
  },
  {
   "cell_type": "code",
   "execution_count": 3,
   "id": "26795d55",
   "metadata": {},
   "outputs": [],
   "source": [
    "def load_model_and_tok(\n",
    "        model_name:str,\n",
    "        output_hidden_states:bool=True,\n",
    "        low_cpu_mem_usage:bool=True,\n",
    "        local_files_only:bool=True,\n",
    "        device_map:str=\"cuda\",\n",
    "        dtype=torch.bfloat16\n",
    ") -> tuple[AutoModelForCausalLM, AutoTokenizer]:\n",
    "    \n",
    "    tok = AutoTokenizer.from_pretrained(model_name)\n",
    "\n",
    "    model = AutoModelForCausalLM.from_pretrained(\n",
    "    model_name,\n",
    "    #output_hidden_states=output_hidden_states,\n",
    "    low_cpu_mem_usage=low_cpu_mem_usage,\n",
    "    local_files_only=local_files_only,\n",
    "    device_map=device_map,\n",
    "    torch_dtype=dtype\n",
    "    )\n",
    "\n",
    "    return model, tok"
   ]
  },
  {
   "cell_type": "markdown",
   "id": "08bed2eb",
   "metadata": {},
   "source": [
    "# -------------------------------\n",
    "# 1. GPT2\n",
    "# -------------------------------"
   ]
  },
  {
   "cell_type": "markdown",
   "id": "2bbf4a7d",
   "metadata": {},
   "source": [
    "## -------------------------------\n",
    "## 1.a. GPT2: 4-bit BnB\n",
    "## -------------------------------"
   ]
  },
  {
   "cell_type": "code",
   "execution_count": 4,
   "id": "2998ee19",
   "metadata": {},
   "outputs": [],
   "source": [
    "gpt2_4bit, gpt2_4bit_tok = load_bnb_in_4bit(Models.GPT2.value, dtype=torch.float16)"
   ]
  },
  {
   "cell_type": "code",
   "execution_count": 5,
   "id": "940d272a",
   "metadata": {},
   "outputs": [],
   "source": [
    "wrapper = LogitLensWrapper(\n",
    "    model=gpt2_4bit,\n",
    "    tokenizer=gpt2_4bit_tok,\n",
    "    block_step=1,\n",
    "    include_input=True,\n",
    "    force_include_output=True,\n",
    "    include_subblocks=True,\n",
    "    decoder_layer_names=[\"final_layernorm\", \"lm_head\"],\n",
    "    device=\"cuda\"\n",
    ")"
   ]
  },
  {
   "cell_type": "code",
   "execution_count": 6,
   "id": "e6acc81e",
   "metadata": {},
   "outputs": [],
   "source": [
    "texts = [\"Hello world\", \"This is a test\"]\n",
    "results = analyze_UNSAFE_interpretability(wrapper, texts, top_k=5, decoder=None)"
   ]
  },
  {
   "cell_type": "code",
   "execution_count": 7,
   "id": "48fbf85e",
   "metadata": {},
   "outputs": [
    {
     "name": "stdout",
     "output_type": "stream",
     "text": [
      "Section scores: {'first': 0.0, 'early': 0.11111111111111116, 'mid': 0.25, 'late': 0.25, 'last': 0.0625}\n",
      "Overall interpretability score: 0.13472222222222224\n"
     ]
    }
   ],
   "source": [
    "section_scores, overall_score = UNSAFE_interpretability_score(results)\n",
    "\n",
    "print(\"Section scores:\", section_scores)\n",
    "print(\"Overall interpretability score:\", overall_score)"
   ]
  },
  {
   "cell_type": "code",
   "execution_count": 8,
   "id": "6164be9a",
   "metadata": {},
   "outputs": [],
   "source": [
    "texts = [\"Hello world\", \"This is a test\"]\n",
    "results = analyze_SAFE_interpretability(wrapper, texts, top_k=5, decoder=None)"
   ]
  },
  {
   "cell_type": "code",
   "execution_count": 9,
   "id": "b27cc25d",
   "metadata": {},
   "outputs": [
    {
     "name": "stdout",
     "output_type": "stream",
     "text": [
      "Section scores: {'first': 1.0, 'early': 1.0, 'mid': 1.0, 'late': 1.0, 'last': 1.0}\n",
      "Overall interpretability score: 1.0\n"
     ]
    }
   ],
   "source": [
    "section_scores, overall_score = UNSAFE_interpretability_score(results)\n",
    "\n",
    "print(\"Section scores:\", section_scores)\n",
    "print(\"Overall interpretability score:\", overall_score)"
   ]
  },
  {
   "cell_type": "markdown",
   "id": "c9dd0648",
   "metadata": {},
   "source": [
    "# -------------------------------\n",
    "# 2. HF1BitLLM/Llama3-8B-1.58-100B-tokens\n",
    "# -------------------------------"
   ]
  },
  {
   "cell_type": "code",
   "execution_count": 4,
   "id": "c676a9b7",
   "metadata": {},
   "outputs": [],
   "source": [
    "hf100b_m, hf100b_tok = load_model_and_tok(Models.HF100B.value, dtype=torch.bfloat16)"
   ]
  },
  {
   "cell_type": "code",
   "execution_count": 5,
   "id": "7ae18de6",
   "metadata": {},
   "outputs": [],
   "source": [
    "wrapper = LogitLensWrapper(\n",
    "    model=hf100b_m,\n",
    "    tokenizer=hf100b_tok,\n",
    "    block_step=1,\n",
    "    include_input=True,\n",
    "    force_include_output=True,\n",
    "    include_subblocks=True,\n",
    "    decoder_layer_names=[\"norm\", \"lm_head\"], \n",
    "    device=\"cuda\"\n",
    ")"
   ]
  },
  {
   "cell_type": "code",
   "execution_count": 6,
   "id": "40a96aa4",
   "metadata": {},
   "outputs": [
    {
     "name": "stderr",
     "output_type": "stream",
     "text": [
      "Asking to truncate to max_length but no maximum length is provided and the model has no predefined maximum length. Default to no truncation.\n",
      "Starting from v4.46, the `logits` model output will have the same type as the model (except at train time, where it will always be FP32)\n"
     ]
    }
   ],
   "source": [
    "texts = [\"Hello world\", \"This is a test\"]\n",
    "results = analyze_UNSAFE_interpretability(wrapper, texts, top_k=5, decoder=None)"
   ]
  },
  {
   "cell_type": "code",
   "execution_count": 7,
   "id": "3684faa3",
   "metadata": {},
   "outputs": [
    {
     "name": "stdout",
     "output_type": "stream",
     "text": [
      "Section scores: {'first': 1.0, 'early': 1.0, 'mid': 1.0, 'late': 1.0, 'last': 1.0}\n",
      "Overall interpretability score: 1.0\n"
     ]
    }
   ],
   "source": [
    "section_scores, overall_score = UNSAFE_interpretability_score(results)\n",
    "\n",
    "print(\"Section scores:\", section_scores)\n",
    "print(\"Overall interpretability score:\", overall_score)"
   ]
  },
  {
   "cell_type": "code",
   "execution_count": 14,
   "id": "a901f94f",
   "metadata": {},
   "outputs": [
    {
     "ename": "NameError",
     "evalue": "name 'model' is not defined",
     "output_type": "error",
     "traceback": [
      "\u001b[0;31m---------------------------------------------------------------------------\u001b[0m",
      "\u001b[0;31mNameError\u001b[0m                                 Traceback (most recent call last)",
      "Cell \u001b[0;32mIn[14], line 1\u001b[0m\n\u001b[0;32m----> 1\u001b[0m \u001b[43mmodel\u001b[49m\u001b[38;5;241m.\u001b[39msave_pretrained(\u001b[38;5;124m\"\u001b[39m\u001b[38;5;124m\"\u001b[39m, safe_serialization\u001b[38;5;241m=\u001b[39m\u001b[38;5;28;01mTrue\u001b[39;00m)\n\u001b[1;32m      2\u001b[0m tokenizer\u001b[38;5;241m.\u001b[39msave_pretrained(\u001b[38;5;124m\"\u001b[39m\u001b[38;5;124m\"\u001b[39m)\n",
      "\u001b[0;31mNameError\u001b[0m: name 'model' is not defined"
     ]
    }
   ],
   "source": [
    "model.save_pretrained(\"\", safe_serialization=True)\n",
    "tokenizer.save_pretrained(\"\")"
   ]
  }
 ],
 "metadata": {
  "kernelspec": {
   "display_name": "logit-lens-env",
   "language": "python",
   "name": "python3"
  },
  "language_info": {
   "codemirror_mode": {
    "name": "ipython",
    "version": 3
   },
   "file_extension": ".py",
   "mimetype": "text/x-python",
   "name": "python",
   "nbconvert_exporter": "python",
   "pygments_lexer": "ipython3",
   "version": "3.10.12"
  }
 },
 "nbformat": 4,
 "nbformat_minor": 5
}
