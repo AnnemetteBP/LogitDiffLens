{
 "cells": [
  {
   "cell_type": "markdown",
   "id": "8a21ec2e",
   "metadata": {},
   "source": [
    "# -------------------------------\n",
    "# MI Logit Lens Notebook\n",
    "# -------------------------------"
   ]
  },
  {
   "cell_type": "code",
   "execution_count": 1,
   "id": "4abd130c",
   "metadata": {},
   "outputs": [],
   "source": [
    "from pathlib import Path\n",
    "from datasets import load_dataset, DownloadMode\n",
    "import torch\n",
    "from transformers import AutoModelForCausalLM, AutoTokenizer, BitsAndBytesConfig\n",
    "import numpy as np\n",
    "import pandas as pd\n",
    "import matplotlib.pyplot as plt\n",
    "import seaborn as sns\n",
    "\n",
    "from quant_configs.bnb_configs import load_bnb_in_8bit, load_bnb_in_4bit\n",
    "from mi_utils.util.logit_lens_utils.logit_lens_wrapper import LogitLensWrapper\n",
    "\n",
    "from mi_utils.logit_lens.logit_lens_degradation_analysis import (\n",
    "    analyze_UNSAFE_degradation,\n",
    "    analyze_SAFE_degradation,\n",
    ")\n",
    "\n",
    "from mi_utils.logit_lens.logit_lens_analysis import run_logit_lens\n",
    "\n",
    "from mi_utils.logit_lens.metric_utils.logit_lens_helpers import (\n",
    "    save_results_to_csv,\n",
    "    get_activation_tensor,\n",
    "    extract_activations,\n",
    "    load_results_from_pt\n",
    ")\n",
    "\n",
    "from mi_utils.logit_lens.metric_utils.interp_degradation_scores import (\n",
    "    degradation_diff_score,\n",
    "    interpretability_diff_score,\n",
    "    degradation_score\n",
    ")\n",
    "\n",
    "from mi_utils.logit_lens.plotting_utils.lens_plotting import (\n",
    "    plot_layer_metric_two_dfs,\n",
    "    plot_layer_deviation,\n",
    "    qq_plot_probs\n",
    ")\n",
    "\n",
    "from mi_utils.logit_lens.metric_utils.carry_over_safe_metrics import get_carry_over_safe_with_embedding"
   ]
  },
  {
   "cell_type": "markdown",
   "id": "076bac63",
   "metadata": {},
   "source": [
    "# -------------------------------\n",
    "# Models\n",
    "# -------------------------------"
   ]
  },
  {
   "cell_type": "code",
   "execution_count": 2,
   "id": "c3693486",
   "metadata": {},
   "outputs": [],
   "source": [
    "from enum import Enum\n",
    "\n",
    "class Models(Enum):\n",
    "    GPT2 = \"Models/GPT2\"\n",
    "    LAIN8B = \"Models/LLaMA3Instruct\"\n",
    "    HF100B = \"Models/HF1BitLLM100Btokens\"\n",
    "    HF10BL = \"Models/HF1BitLLMLinear10B\"\n",
    "    HF10BS = \"Models/HF1BitLLMSigmoid10B\"\n",
    "    OL1B = \"Models/OLMo1B\"\n",
    "    OL7B = \"Models/OLMo1B\"\n",
    "    DH3B = \"DHLLaMA3B\"\n",
    "    DH8B = \"DHLLaMA8B\"\n",
    "\n",
    "class Names(Enum):\n",
    "    GPT2 = \"GPT2\"\n",
    "    LAIN8B = \"Meta-Llama-3-8B-Instruct\"\n",
    "    HF100B = \"Models/Llama3-8B-1.58-100B-tokens\"\n",
    "    HF10BL = \"Llama3-8B-1.58-Linear-10B-tokens\"\n",
    "    HF10BS = \"Llama3-8B-1.58-Sigmoid-k100-10B-tokens\"\n",
    "    OL1B = \"OLMo-1B-hf\"\n",
    "    OL7B = \"OLMo-7B-hf\"\n",
    "    DH3B = \"DeepHermes-3-Llama-3-3B-Preview\"\n",
    "    DH8B = \"DeepHermes-3-Llama-3-8B-Preview\""
   ]
  },
  {
   "cell_type": "code",
   "execution_count": 3,
   "id": "26795d55",
   "metadata": {},
   "outputs": [],
   "source": [
    "def load_model_and_tok(\n",
    "        model_name:str,\n",
    "        output_hidden_states:bool=True,\n",
    "        low_cpu_mem_usage:bool=True,\n",
    "        local_files_only:bool=True,\n",
    "        device_map:str=\"cuda\",\n",
    "        dtype=torch.bfloat16\n",
    ") -> tuple[AutoModelForCausalLM, AutoTokenizer]:\n",
    "    \n",
    "    tok = AutoTokenizer.from_pretrained(model_name)\n",
    "\n",
    "    model = AutoModelForCausalLM.from_pretrained(\n",
    "    model_name,\n",
    "    #output_hidden_states=output_hidden_states,\n",
    "    low_cpu_mem_usage=low_cpu_mem_usage,\n",
    "    local_files_only=local_files_only,\n",
    "    device_map=device_map,\n",
    "    torch_dtype=dtype\n",
    "    )\n",
    "\n",
    "    return model, tok"
   ]
  },
  {
   "cell_type": "code",
   "execution_count": null,
   "id": "75587dea",
   "metadata": {},
   "outputs": [],
   "source": [
    "def save_fp_acts_to_pt(fp_acts, save_name:str) -> None:\n",
    "    fp_acts_to_save = {}\n",
    "    for lname, act in fp_acts.items():\n",
    "        fp_acts_to_save[lname] = {\n",
    "            \"hidden\": act[\"hidden\"].detach().cpu(),\n",
    "            \"mask\": act[\"mask\"].detach().cpu()\n",
    "        }\n",
    "\n",
    "    torch.save(fp_acts_to_save, f\"logs/cka_svcca_acts/{save_name}.pt\")\n",
    "\n",
    "def load_fp_acts(fp_acts_name:str):\n",
    "    fp_acts = torch.load(f\"logs/cka_svcca_acts/{fp_acts_name}.pt\")\n",
    "    return fp_acts"
   ]
  },
  {
   "cell_type": "markdown",
   "id": "65e6eade",
   "metadata": {},
   "source": [
    "# -------------------------------\n",
    "# Parameters & Datasets\n",
    "# -------------------------------"
   ]
  },
  {
   "cell_type": "code",
   "execution_count": null,
   "id": "a16dc6ee",
   "metadata": {},
   "outputs": [],
   "source": [
    "LL_DIR = \"logs/logit_lens_logs\"\n",
    "\n",
    "BATCH_DIR = f\"{LL_DIR}/batch_analysis\"\n",
    "INTERP_DIR = f\"{LL_DIR}/interp_analysis\"\n",
    "\n",
    "NQ_DIR = \"natural_questions\"\n",
    "GS_DIR = \"gsm8k\""
   ]
  },
  {
   "cell_type": "code",
   "execution_count": null,
   "id": "4edc2292",
   "metadata": {},
   "outputs": [],
   "source": [
    "EPS = 1e-12 \n",
    "TOPK = 5"
   ]
  },
  {
   "cell_type": "code",
   "execution_count": null,
   "id": "738abf36",
   "metadata": {},
   "outputs": [],
   "source": [
    "GPT_L = [\"final_layernorm\", \"lm_head\"]\n",
    "LLAMA_L = [\"norm\", \"lm_head\"]"
   ]
  },
  {
   "cell_type": "code",
   "execution_count": null,
   "id": "58eafd1d",
   "metadata": {},
   "outputs": [],
   "source": [
    "texts = [\"Hello world\", \"This is a test\"]"
   ]
  },
  {
   "cell_type": "code",
   "execution_count": null,
   "id": "d579af40",
   "metadata": {},
   "outputs": [],
   "source": [
    "filepath = r'D:\\LogitLensData\\nq'\n",
    "\n",
    "destination_path = str(Path(filepath))\n",
    "nq_dataset = load_dataset(\n",
    "    'sentence-transformers/natural-questions',\n",
    "    split={\n",
    "        'train': 'train[:10]'\n",
    "    },\n",
    "    cache_dir=destination_path,\n",
    "    download_mode=DownloadMode.REUSE_DATASET_IF_EXISTS,\n",
    "    keep_in_memory=True\n",
    ")"
   ]
  },
  {
   "cell_type": "code",
   "execution_count": null,
   "id": "25546dfa",
   "metadata": {},
   "outputs": [],
   "source": [
    "nq_queries = list(nq_dataset['train']['query'])\n",
    "nq_answers = list(nq_dataset['train']['answer'])"
   ]
  },
  {
   "cell_type": "code",
   "execution_count": null,
   "id": "5de5f791",
   "metadata": {},
   "outputs": [],
   "source": [
    "nq_queries = nq_dataset['train']['query']\n",
    "nq_answers = nq_dataset['train']['answer']"
   ]
  },
  {
   "cell_type": "code",
   "execution_count": null,
   "id": "5e883d12",
   "metadata": {},
   "outputs": [],
   "source": [
    "filepath = r'D:\\LogitLensData\\gsm8k'\n",
    "\n",
    "destination_path = str(Path(filepath))\n",
    "gsm8k_dataset = load_dataset(\n",
    "    'gsm8k', 'main',\n",
    "    split={\n",
    "        'train': 'train[:20]'\n",
    "    },\n",
    "    cache_dir=destination_path,\n",
    "    download_mode=DownloadMode.REUSE_DATASET_IF_EXISTS,\n",
    "    keep_in_memory=True\n",
    ")"
   ]
  },
  {
   "cell_type": "code",
   "execution_count": null,
   "id": "7d634db6",
   "metadata": {},
   "outputs": [],
   "source": [
    "gsm8k_questions = gsm8k_dataset['train']['question']\n",
    "gsm8k_answers = gsm8k_dataset['train']['answer']"
   ]
  },
  {
   "cell_type": "code",
   "execution_count": null,
   "id": "5630f4d1",
   "metadata": {},
   "outputs": [],
   "source": [
    "DATA = nq_answers"
   ]
  },
  {
   "cell_type": "markdown",
   "id": "16d636bc",
   "metadata": {},
   "source": [
    "# -------------------------------\n",
    "# Extract and save FP Activations for CKA/SVCCA\n",
    "# -------------------------------"
   ]
  },
  {
   "cell_type": "code",
   "execution_count": null,
   "id": "68036fab",
   "metadata": {},
   "outputs": [],
   "source": [
    "llama_fp, llama_tok = load_model_and_tok(Models.LAIN8B.value, device_map=\"cpu\", dtype=torch.float32)"
   ]
  },
  {
   "cell_type": "code",
   "execution_count": null,
   "id": "2f9a7932",
   "metadata": {},
   "outputs": [],
   "source": [
    "llama_fp_wrapper = LogitLensWrapper(\n",
    "    model=llama_fp,\n",
    "    tokenizer=llama_tok,\n",
    "    block_step=1,\n",
    "    include_input=True,\n",
    "    force_include_output=True,\n",
    "    include_subblocks=True,\n",
    "    decoder_layer_names=LLAMA_L,\n",
    "    device=\"cpu\"\n",
    ")"
   ]
  },
  {
   "cell_type": "code",
   "execution_count": null,
   "id": "7065a696",
   "metadata": {},
   "outputs": [],
   "source": [
    "llama_fp_acts = extract_activations(wrapper=llama_fp_wrapper, prompts=nq_answers)"
   ]
  },
  {
   "cell_type": "code",
   "execution_count": null,
   "id": "9cfa24f4",
   "metadata": {},
   "outputs": [],
   "source": [
    "save_fp_acts_to_pt(llama_fp_acts, \"llama_fp_acts_nq_answers\")"
   ]
  },
  {
   "cell_type": "markdown",
   "id": "c9dd0648",
   "metadata": {},
   "source": [
    "# -------------------------------\n",
    "# 2. HF1BitLLM/Llama3-8B-1.58-100B-tokens\n",
    "# -------------------------------"
   ]
  },
  {
   "cell_type": "code",
   "execution_count": null,
   "id": "c676a9b7",
   "metadata": {},
   "outputs": [],
   "source": [
    "#hf100b_m, hf100b_tok = load_model_and_tok(Models.HF100B.value, dtype=torch.bfloat16)\n",
    "hf100b_m, hf100b_tok = load_model_and_tok(Models.HF100B.value, device_map=\"cpu\", dtype=torch.float32)"
   ]
  },
  {
   "cell_type": "code",
   "execution_count": null,
   "id": "7ae18de6",
   "metadata": {},
   "outputs": [],
   "source": [
    "hf100b_wrapper = LogitLensWrapper(\n",
    "    model=hf100b_m,\n",
    "    tokenizer=hf100b_tok,\n",
    "    block_step=1,\n",
    "    include_input=True,\n",
    "    force_include_output=True,\n",
    "    include_subblocks=True,\n",
    "    decoder_layer_names=LLAMA_L, \n",
    "    device=\"cpu\"\n",
    ")"
   ]
  },
  {
   "cell_type": "code",
   "execution_count": null,
   "id": "40a96aa4",
   "metadata": {},
   "outputs": [],
   "source": [
    "hf100b_unsafe_results = analyze_UNSAFE_degradation(hf100b_wrapper, texts, top_k=5, decoder=None)"
   ]
  },
  {
   "cell_type": "code",
   "execution_count": null,
   "id": "43c946ca",
   "metadata": {},
   "outputs": [],
   "source": [
    "save_results_to_csv(hf100b_unsafe_results, filename=f\"{LL_DIR}hf100b_unsafe_results.csv\")"
   ]
  },
  {
   "cell_type": "code",
   "execution_count": null,
   "id": "3684faa3",
   "metadata": {},
   "outputs": [],
   "source": [
    "hf100b_section_scores, hf100b_overall_score = degradation_score(hf100b_unsafe_results)\n",
    "\n",
    "print(\"Section scores:\", hf100b_section_scores)\n",
    "print(\"Overall interpretability score:\", hf100b_overall_score)"
   ]
  },
  {
   "cell_type": "code",
   "execution_count": null,
   "id": "882e6a59",
   "metadata": {},
   "outputs": [],
   "source": [
    "hf_acts = extract_activations(wrapper=hf100b_wrapper, prompts=texts)"
   ]
  },
  {
   "cell_type": "code",
   "execution_count": null,
   "id": "ab153480",
   "metadata": {},
   "outputs": [],
   "source": [
    "save_fp_acts_to_pt(hf_acts, \"hf_acts\")"
   ]
  },
  {
   "cell_type": "code",
   "execution_count": null,
   "id": "a81e6a63",
   "metadata": {},
   "outputs": [],
   "source": [
    "llama_fp_acts = load_fp_acts(\"llama_fp_acts_nq_answers\")"
   ]
  },
  {
   "cell_type": "code",
   "execution_count": null,
   "id": "be2ad717",
   "metadata": {},
   "outputs": [],
   "source": [
    "hf_acts = extract_activations(wrapper=hf100b_wrapper, prompts=DATA)"
   ]
  },
  {
   "cell_type": "code",
   "execution_count": null,
   "id": "c882f87e",
   "metadata": {},
   "outputs": [],
   "source": [
    "save_fp_acts_to_pt(hf_acts, \"hf100b_acts_nq_answers\")"
   ]
  },
  {
   "cell_type": "code",
   "execution_count": null,
   "id": "6d08da08",
   "metadata": {},
   "outputs": [],
   "source": [
    "hf_acts = load_fp_acts(\"hf100b_acts_nq_answers\")"
   ]
  },
  {
   "cell_type": "code",
   "execution_count": null,
   "id": "86fedb5c",
   "metadata": {},
   "outputs": [],
   "source": [
    "run_logit_lens(\n",
    "    wrapper=hf100b_wrapper,\n",
    "    prompts=DATA,\n",
    "    model_name=\"llama_hf100b\",\n",
    "    dataset_name=\"nq_answers\",\n",
    "    topk=TOPK,\n",
    "    eps=EPS,\n",
    "    skip_input_layer= False, # True to skip embedding\n",
    "    include_final_norm=True,\n",
    "    save_layer_probs=False\n",
    ")"
   ]
  },
  {
   "cell_type": "code",
   "execution_count": 5,
   "id": "00d89afb",
   "metadata": {},
   "outputs": [],
   "source": [
    "import torch\n",
    "\n",
    "data = torch.load(\n",
    "    \"logs/logit_lens_logs/logit_lens_analysis/nq_answers_llama_hf100b.pt\",\n",
    "    weights_only=False  # allow full unpickling\n",
    ")\n"
   ]
  },
  {
   "cell_type": "code",
   "execution_count": 6,
   "id": "db8c9662",
   "metadata": {},
   "outputs": [],
   "source": [
    "import pandas as pd\n",
    "hf_df = pd.DataFrame(data)"
   ]
  },
  {
   "cell_type": "code",
   "execution_count": 7,
   "id": "700d4fe9",
   "metadata": {},
   "outputs": [
    {
     "name": "stderr",
     "output_type": "stream",
     "text": [
      "/media/am/AM/LogitDiffLens/mi_utils/logit_lens/metric_utils/carry_over_safe_metrics.py:155: UserWarning: To copy construct from a tensor, it is recommended to use sourceTensor.detach().clone() or sourceTensor.detach().clone().requires_grad_(True), rather than torch.tensor(sourceTensor).\n",
      "  return layers_tensor, torch.tensor(input_ids, dtype=torch.long), torch.tensor(target_ids, dtype=torch.long)\n"
     ]
    },
    {
     "data": {
      "text/plain": [
       "{'per_prompt': {0: {'acc_top1_scalar': 0.16129031777381897,\n",
       "   'acc_topk_scalar': 0.35483869910240173,\n",
       "   'persistency_top1_scalar': 0.5078043341636658,\n",
       "   'persistency_topk_scalar': 0.061394378542900085,\n",
       "   'consistency_top1_scalar': 0.09216590225696564,\n",
       "   'consistency_topk_scalar': 0.2617318332195282,\n",
       "   'earliness_top1_scalar': 0.0208116564899683,\n",
       "   'earliness_topk_scalar': 0.08428719639778137},\n",
       "  1: {'acc_top1_scalar': 0.09677419066429138,\n",
       "   'acc_topk_scalar': 0.22580644488334656,\n",
       "   'persistency_top1_scalar': 0.4682621657848358,\n",
       "   'persistency_topk_scalar': 0.05515088513493538,\n",
       "   'consistency_top1_scalar': 0.07526881992816925,\n",
       "   'consistency_topk_scalar': 0.19204531610012054,\n",
       "   'earliness_top1_scalar': 0.002081165323033929,\n",
       "   'earliness_topk_scalar': 0.04058272764086723},\n",
       "  2: {'acc_top1_scalar': 0.09677419066429138,\n",
       "   'acc_topk_scalar': 0.25806450843811035,\n",
       "   'persistency_top1_scalar': 0.4526534974575043,\n",
       "   'persistency_topk_scalar': 0.07492194324731827,\n",
       "   'consistency_top1_scalar': 0.08064515888690948,\n",
       "   'consistency_topk_scalar': 0.23655913770198822,\n",
       "   'earliness_top1_scalar': 0.003121750894933939,\n",
       "   'earliness_topk_scalar': 0.023933405056595802},\n",
       "  3: {'acc_top1_scalar': 0.19354838132858276,\n",
       "   'acc_topk_scalar': 0.32258063554763794,\n",
       "   'persistency_top1_scalar': 0.4453693926334381,\n",
       "   'persistency_topk_scalar': 0.0676378682255745,\n",
       "   'consistency_top1_scalar': 0.07265745103359222,\n",
       "   'consistency_topk_scalar': 0.2193933129310608,\n",
       "   'earliness_top1_scalar': 0.06347554922103882,\n",
       "   'earliness_topk_scalar': 0.10197710990905762},\n",
       "  4: {'acc_top1_scalar': 0.16129031777381897,\n",
       "   'acc_topk_scalar': 0.32258063554763794,\n",
       "   'persistency_top1_scalar': 0.4464099705219269,\n",
       "   'persistency_topk_scalar': 0.05098855122923851,\n",
       "   'consistency_top1_scalar': 0.12163978070020676,\n",
       "   'consistency_topk_scalar': 0.2612270712852478,\n",
       "   'earliness_top1_scalar': 0.031217481940984726,\n",
       "   'earliness_topk_scalar': 0.0416233167052269},\n",
       "  5: {'acc_top1_scalar': 0.19354838132858276,\n",
       "   'acc_topk_scalar': 0.3870967626571655,\n",
       "   'persistency_top1_scalar': 0.5223725438117981,\n",
       "   'persistency_topk_scalar': 0.06763787567615509,\n",
       "   'consistency_top1_scalar': 0.12364368885755539,\n",
       "   'consistency_topk_scalar': 0.2979646921157837,\n",
       "   'earliness_top1_scalar': 0.06035379320383072,\n",
       "   'earliness_topk_scalar': 0.09053070098161697},\n",
       "  6: {'acc_top1_scalar': 0.06451612710952759,\n",
       "   'acc_topk_scalar': 0.19354838132858276,\n",
       "   'persistency_top1_scalar': 0.4037460386753082,\n",
       "   'persistency_topk_scalar': 0.04578563943505287,\n",
       "   'consistency_top1_scalar': 0.06451612710952759,\n",
       "   'consistency_topk_scalar': 0.1895161271095276,\n",
       "   'earliness_top1_scalar': 0.0,\n",
       "   'earliness_topk_scalar': 0.008324663154780865},\n",
       "  7: {'acc_top1_scalar': 0.032258063554763794,\n",
       "   'acc_topk_scalar': 0.12903225421905518,\n",
       "   'persistency_top1_scalar': 0.4911549985408783,\n",
       "   'persistency_topk_scalar': 0.06139437481760979,\n",
       "   'consistency_top1_scalar': 0.032258063554763794,\n",
       "   'consistency_topk_scalar': 0.05500413849949837,\n",
       "   'earliness_top1_scalar': 0.0010405837092548609,\n",
       "   'earliness_topk_scalar': 0.043704476207494736},\n",
       "  8: {'acc_top1_scalar': 0.032258063554763794,\n",
       "   'acc_topk_scalar': 0.09677419066429138,\n",
       "   'persistency_top1_scalar': 0.46930280327796936,\n",
       "   'persistency_topk_scalar': 0.04786680266261101,\n",
       "   'consistency_top1_scalar': 0.032258063554763794,\n",
       "   'consistency_topk_scalar': 0.09462365508079529,\n",
       "   'earliness_top1_scalar': 0.0010405837092548609,\n",
       "   'earliness_topk_scalar': 0.01664932258427143},\n",
       "  9: {'acc_top1_scalar': 0.12903225421905518,\n",
       "   'acc_topk_scalar': 0.19354838132858276,\n",
       "   'persistency_top1_scalar': 0.4620187282562256,\n",
       "   'persistency_topk_scalar': 0.05619145929813385,\n",
       "   'consistency_top1_scalar': 0.06351765990257263,\n",
       "   'consistency_topk_scalar': 0.16021504998207092,\n",
       "   'earliness_top1_scalar': 0.021852238103747368,\n",
       "   'earliness_topk_scalar': 0.03746097907423973}},\n",
       " 'mean': {'acc_top1_scalar': 0.11612902879714966,\n",
       "  'acc_topk_scalar': 0.24838708937168122,\n",
       "  'persistency_top1_scalar': 0.46690944731235506,\n",
       "  'persistency_topk_scalar': 0.05889697782695293,\n",
       "  'consistency_top1_scalar': 0.07585707157850266,\n",
       "  'consistency_topk_scalar': 0.19682803340256214,\n",
       "  'earliness_top1_scalar': 0.02049948025960475,\n",
       "  'earliness_topk_scalar': 0.048907389771193265}}"
      ]
     },
     "execution_count": 7,
     "metadata": {},
     "output_type": "execute_result"
    }
   ],
   "source": [
    "get_carry_over_safe_with_embedding(hf_df, topk=5, prefix='layers.')"
   ]
  },
  {
   "cell_type": "code",
   "execution_count": null,
   "id": "f6eb5788",
   "metadata": {},
   "outputs": [],
   "source": [
    "hf_df.columns"
   ]
  },
  {
   "cell_type": "code",
   "execution_count": null,
   "id": "3ad389e0",
   "metadata": {},
   "outputs": [],
   "source": [
    "df[\"layer_name\"].unique()"
   ]
  },
  {
   "cell_type": "code",
   "execution_count": null,
   "id": "fe2a936b",
   "metadata": {},
   "outputs": [],
   "source": [
    "hf_df.isna().sum()"
   ]
  },
  {
   "cell_type": "code",
   "execution_count": null,
   "id": "b3c81966",
   "metadata": {},
   "outputs": [],
   "source": [
    "pos_inf_counts = df.apply(lambda col: (col == np.inf).sum())\n",
    "neg_inf_counts = df.apply(lambda col: (col == -np.inf).sum())\n",
    "print(f\"{neg_inf_counts}\\n{pos_inf_counts}\")"
   ]
  },
  {
   "cell_type": "code",
   "execution_count": null,
   "id": "a901f94f",
   "metadata": {},
   "outputs": [],
   "source": [
    "#model.save_pretrained(\"Models/\", safe_serialization=True)\n",
    "#tokenizer.save_pretrained(\"Models/\")"
   ]
  }
 ],
 "metadata": {
  "kernelspec": {
   "display_name": "logit-lens-env",
   "language": "python",
   "name": "python3"
  },
  "language_info": {
   "codemirror_mode": {
    "name": "ipython",
    "version": 3
   },
   "file_extension": ".py",
   "mimetype": "text/x-python",
   "name": "python",
   "nbconvert_exporter": "python",
   "pygments_lexer": "ipython3",
   "version": "3.10.12"
  }
 },
 "nbformat": 4,
 "nbformat_minor": 5
}
