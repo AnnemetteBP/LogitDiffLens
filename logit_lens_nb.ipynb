{
 "cells": [
  {
   "cell_type": "markdown",
   "id": "8a21ec2e",
   "metadata": {},
   "source": [
    "# -------------------------------\n",
    "# MI Logit Lens Notebook\n",
    "# -------------------------------"
   ]
  },
  {
   "cell_type": "code",
   "execution_count": null,
   "id": "4abd130c",
   "metadata": {},
   "outputs": [],
   "source": [
    "from pathlib import Path\n",
    "from datasets import load_dataset, DownloadMode\n",
    "import torch\n",
    "from transformers import AutoModelForCausalLM, AutoTokenizer, BitsAndBytesConfig\n",
    "import numpy as np\n",
    "import pandas as pd\n",
    "import matplotlib.pyplot as plt\n",
    "import seaborn as sns\n",
    "\n",
    "from quant_configs.bnb_configs import load_bnb_in_8bit, load_bnb_in_4bit\n",
    "from mi_utils.util.logit_lens_utils.logit_lens_wrapper import LogitLensWrapper\n",
    "\n",
    "from mi_utils.logit_lens.logit_lens_degradation_analysis import (\n",
    "    analyze_UNSAFE_degradation,\n",
    "    analyze_SAFE_degradation,\n",
    ")\n",
    "\n",
    "from mi_utils.logit_lens.logit_lens_analysis import run_logit_lens\n",
    "\n",
    "from mi_utils.logit_lens.metric_utils.logit_lens_helpers import (\n",
    "    save_results_to_csv,\n",
    "    get_activation_tensor,\n",
    "    extract_activations,\n",
    "    load_results_from_pt\n",
    ")\n",
    "\n",
    "from mi_utils.logit_lens.metric_utils.interp_degradation_scores import (\n",
    "    degradation_diff_score,\n",
    "    interpretability_diff_score,\n",
    "    degradation_score\n",
    ")\n",
    "\n",
    "from mi_utils.logit_lens.plotting_utils.lens_plotting import (\n",
    "    plot_layer_metric_two_dfs,\n",
    "    plot_layer_deviation,\n",
    "    qq_plot_probs\n",
    ")\n",
    "\n",
    "from mi_utils.logit_lens.metric_utils.carry_over_safe_metrics import (\n",
    "    filter_main_layers,\n",
    "    prepare_layer_tensors,\n",
    "    compute_carry_over_safe_scalar\n",
    ")"
   ]
  },
  {
   "cell_type": "markdown",
   "id": "076bac63",
   "metadata": {},
   "source": [
    "# -------------------------------\n",
    "# Models\n",
    "# -------------------------------"
   ]
  },
  {
   "cell_type": "code",
   "execution_count": null,
   "id": "c3693486",
   "metadata": {},
   "outputs": [],
   "source": [
    "from enum import Enum\n",
    "\n",
    "class Models(Enum):\n",
    "    GPT2 = \"Models/GPT2\"\n",
    "    LAIN8B = \"Models/LLaMA3Instruct\"\n",
    "    HF100B = \"Models/HF1BitLLM100Btokens\"\n",
    "    HF10BL = \"Models/HF1BitLLMLinear10B\"\n",
    "    HF10BS = \"Models/HF1BitLLMSigmoid10B\"\n",
    "    OL1B = \"Models/OLMo1B\"\n",
    "    OL7B = \"Models/OLMo1B\"\n",
    "    DH3B = \"DHLLaMA3B\"\n",
    "    DH8B = \"DHLLaMA8B\"\n",
    "\n",
    "class Names(Enum):\n",
    "    GPT2 = \"GPT2\"\n",
    "    LAIN8B = \"Meta-Llama-3-8B-Instruct\"\n",
    "    HF100B = \"Models/Llama3-8B-1.58-100B-tokens\"\n",
    "    HF10BL = \"Llama3-8B-1.58-Linear-10B-tokens\"\n",
    "    HF10BS = \"Llama3-8B-1.58-Sigmoid-k100-10B-tokens\"\n",
    "    OL1B = \"OLMo-1B-hf\"\n",
    "    OL7B = \"OLMo-7B-hf\"\n",
    "    DH3B = \"DeepHermes-3-Llama-3-3B-Preview\"\n",
    "    DH8B = \"DeepHermes-3-Llama-3-8B-Preview\""
   ]
  },
  {
   "cell_type": "code",
   "execution_count": null,
   "id": "26795d55",
   "metadata": {},
   "outputs": [],
   "source": [
    "def load_model_and_tok(\n",
    "        model_name:str,\n",
    "        output_hidden_states:bool=True,\n",
    "        low_cpu_mem_usage:bool=True,\n",
    "        local_files_only:bool=True,\n",
    "        device_map:str=\"cuda\",\n",
    "        dtype=torch.bfloat16\n",
    ") -> tuple[AutoModelForCausalLM, AutoTokenizer]:\n",
    "    \n",
    "    tok = AutoTokenizer.from_pretrained(model_name)\n",
    "\n",
    "    model = AutoModelForCausalLM.from_pretrained(\n",
    "    model_name,\n",
    "    #output_hidden_states=output_hidden_states,\n",
    "    low_cpu_mem_usage=low_cpu_mem_usage,\n",
    "    local_files_only=local_files_only,\n",
    "    device_map=device_map,\n",
    "    torch_dtype=dtype\n",
    "    )\n",
    "\n",
    "    return model, tok"
   ]
  },
  {
   "cell_type": "code",
   "execution_count": null,
   "id": "75587dea",
   "metadata": {},
   "outputs": [],
   "source": [
    "def save_fp_acts_to_pt(fp_acts, save_name:str) -> None:\n",
    "    fp_acts_to_save = {}\n",
    "    for lname, act in fp_acts.items():\n",
    "        fp_acts_to_save[lname] = {\n",
    "            \"hidden\": act[\"hidden\"].detach().cpu(),\n",
    "            \"mask\": act[\"mask\"].detach().cpu()\n",
    "        }\n",
    "\n",
    "    torch.save(fp_acts_to_save, f\"logs/cka_svcca_acts/{save_name}.pt\")\n",
    "\n",
    "def load_fp_acts(fp_acts_name:str):\n",
    "    fp_acts = torch.load(f\"logs/cka_svcca_acts/{fp_acts_name}.pt\")\n",
    "    return fp_acts"
   ]
  },
  {
   "cell_type": "markdown",
   "id": "65e6eade",
   "metadata": {},
   "source": [
    "# -------------------------------\n",
    "# Parameters & Datasets\n",
    "# -------------------------------"
   ]
  },
  {
   "cell_type": "code",
   "execution_count": null,
   "id": "a16dc6ee",
   "metadata": {},
   "outputs": [],
   "source": [
    "LL_DIR = \"logs/logit_lens_logs\"\n",
    "\n",
    "BATCH_DIR = f\"{LL_DIR}/batch_analysis\"\n",
    "INTERP_DIR = f\"{LL_DIR}/interp_analysis\"\n",
    "\n",
    "NQ_DIR = \"natural_questions\"\n",
    "GS_DIR = \"gsm8k\""
   ]
  },
  {
   "cell_type": "code",
   "execution_count": null,
   "id": "4edc2292",
   "metadata": {},
   "outputs": [],
   "source": [
    "EPS = 1e-12 \n",
    "TOPK = 5"
   ]
  },
  {
   "cell_type": "code",
   "execution_count": null,
   "id": "738abf36",
   "metadata": {},
   "outputs": [],
   "source": [
    "GPT_L = [\"final_layernorm\", \"lm_head\"]\n",
    "LLAMA_L = [\"norm\", \"lm_head\"]"
   ]
  },
  {
   "cell_type": "code",
   "execution_count": null,
   "id": "58eafd1d",
   "metadata": {},
   "outputs": [],
   "source": [
    "texts = [\"Hello world\", \"This is a test\"]"
   ]
  },
  {
   "cell_type": "code",
   "execution_count": null,
   "id": "d579af40",
   "metadata": {},
   "outputs": [],
   "source": [
    "filepath = r'D:\\LogitLensData\\nq'\n",
    "\n",
    "destination_path = str(Path(filepath))\n",
    "nq_dataset = load_dataset(\n",
    "    'sentence-transformers/natural-questions',\n",
    "    split={\n",
    "        'train': 'train[:10]'\n",
    "    },\n",
    "    cache_dir=destination_path,\n",
    "    download_mode=DownloadMode.REUSE_DATASET_IF_EXISTS,\n",
    "    keep_in_memory=True\n",
    ")"
   ]
  },
  {
   "cell_type": "code",
   "execution_count": null,
   "id": "25546dfa",
   "metadata": {},
   "outputs": [],
   "source": [
    "nq_queries = list(nq_dataset['train']['query'])\n",
    "nq_answers = list(nq_dataset['train']['answer'])"
   ]
  },
  {
   "cell_type": "code",
   "execution_count": null,
   "id": "5de5f791",
   "metadata": {},
   "outputs": [],
   "source": [
    "nq_queries = nq_dataset['train']['query']\n",
    "nq_answers = nq_dataset['train']['answer']"
   ]
  },
  {
   "cell_type": "code",
   "execution_count": null,
   "id": "5e883d12",
   "metadata": {},
   "outputs": [],
   "source": [
    "filepath = r'D:\\LogitLensData\\gsm8k'\n",
    "\n",
    "destination_path = str(Path(filepath))\n",
    "gsm8k_dataset = load_dataset(\n",
    "    'gsm8k', 'main',\n",
    "    split={\n",
    "        'train': 'train[:20]'\n",
    "    },\n",
    "    cache_dir=destination_path,\n",
    "    download_mode=DownloadMode.REUSE_DATASET_IF_EXISTS,\n",
    "    keep_in_memory=True\n",
    ")"
   ]
  },
  {
   "cell_type": "code",
   "execution_count": null,
   "id": "7d634db6",
   "metadata": {},
   "outputs": [],
   "source": [
    "gsm8k_questions = gsm8k_dataset['train']['question']\n",
    "gsm8k_answers = gsm8k_dataset['train']['answer']"
   ]
  },
  {
   "cell_type": "code",
   "execution_count": null,
   "id": "5630f4d1",
   "metadata": {},
   "outputs": [],
   "source": [
    "DATA = nq_answers"
   ]
  },
  {
   "cell_type": "markdown",
   "id": "16d636bc",
   "metadata": {},
   "source": [
    "# -------------------------------\n",
    "# Extract and save FP Activations for CKA/SVCCA\n",
    "# -------------------------------"
   ]
  },
  {
   "cell_type": "code",
   "execution_count": null,
   "id": "68036fab",
   "metadata": {},
   "outputs": [],
   "source": [
    "llama_fp, llama_tok = load_model_and_tok(Models.LAIN8B.value, device_map=\"cpu\", dtype=torch.float32)"
   ]
  },
  {
   "cell_type": "code",
   "execution_count": null,
   "id": "2f9a7932",
   "metadata": {},
   "outputs": [],
   "source": [
    "llama_fp_wrapper = LogitLensWrapper(\n",
    "    model=llama_fp,\n",
    "    tokenizer=llama_tok,\n",
    "    block_step=1,\n",
    "    include_input=True,\n",
    "    force_include_output=True,\n",
    "    include_subblocks=True,\n",
    "    decoder_layer_names=LLAMA_L,\n",
    "    device=\"cpu\"\n",
    ")"
   ]
  },
  {
   "cell_type": "code",
   "execution_count": null,
   "id": "7065a696",
   "metadata": {},
   "outputs": [],
   "source": [
    "llama_fp_acts = extract_activations(wrapper=llama_fp_wrapper, prompts=nq_answers)"
   ]
  },
  {
   "cell_type": "code",
   "execution_count": null,
   "id": "9cfa24f4",
   "metadata": {},
   "outputs": [],
   "source": [
    "save_fp_acts_to_pt(llama_fp_acts, \"llama_fp_acts_nq_answers\")"
   ]
  },
  {
   "cell_type": "markdown",
   "id": "c9dd0648",
   "metadata": {},
   "source": [
    "# -------------------------------\n",
    "# 2. HF1BitLLM/Llama3-8B-1.58-100B-tokens\n",
    "# -------------------------------"
   ]
  },
  {
   "cell_type": "code",
   "execution_count": null,
   "id": "c676a9b7",
   "metadata": {},
   "outputs": [],
   "source": [
    "#hf100b_m, hf100b_tok = load_model_and_tok(Models.HF100B.value, dtype=torch.bfloat16)\n",
    "hf100b_m, hf100b_tok = load_model_and_tok(Models.HF100B.value, device_map=\"cpu\", dtype=torch.float32)"
   ]
  },
  {
   "cell_type": "code",
   "execution_count": null,
   "id": "7ae18de6",
   "metadata": {},
   "outputs": [],
   "source": [
    "hf100b_wrapper = LogitLensWrapper(\n",
    "    model=hf100b_m,\n",
    "    tokenizer=hf100b_tok,\n",
    "    block_step=1,\n",
    "    include_input=True,\n",
    "    force_include_output=True,\n",
    "    include_subblocks=True,\n",
    "    decoder_layer_names=LLAMA_L, \n",
    "    device=\"cpu\"\n",
    ")"
   ]
  },
  {
   "cell_type": "code",
   "execution_count": null,
   "id": "40a96aa4",
   "metadata": {},
   "outputs": [],
   "source": [
    "hf100b_unsafe_results = analyze_UNSAFE_degradation(hf100b_wrapper, texts, top_k=5, decoder=None)"
   ]
  },
  {
   "cell_type": "code",
   "execution_count": null,
   "id": "43c946ca",
   "metadata": {},
   "outputs": [],
   "source": [
    "save_results_to_csv(hf100b_unsafe_results, filename=f\"{LL_DIR}hf100b_unsafe_results.csv\")"
   ]
  },
  {
   "cell_type": "code",
   "execution_count": null,
   "id": "3684faa3",
   "metadata": {},
   "outputs": [],
   "source": [
    "hf100b_section_scores, hf100b_overall_score = degradation_score(hf100b_unsafe_results)\n",
    "\n",
    "print(\"Section scores:\", hf100b_section_scores)\n",
    "print(\"Overall interpretability score:\", hf100b_overall_score)"
   ]
  },
  {
   "cell_type": "code",
   "execution_count": null,
   "id": "882e6a59",
   "metadata": {},
   "outputs": [],
   "source": [
    "hf_acts = extract_activations(wrapper=hf100b_wrapper, prompts=texts)"
   ]
  },
  {
   "cell_type": "code",
   "execution_count": null,
   "id": "ab153480",
   "metadata": {},
   "outputs": [],
   "source": [
    "save_fp_acts_to_pt(hf_acts, \"hf_acts\")"
   ]
  },
  {
   "cell_type": "code",
   "execution_count": null,
   "id": "a81e6a63",
   "metadata": {},
   "outputs": [],
   "source": [
    "llama_fp_acts = load_fp_acts(\"llama_fp_acts_nq_answers\")"
   ]
  },
  {
   "cell_type": "code",
   "execution_count": null,
   "id": "be2ad717",
   "metadata": {},
   "outputs": [],
   "source": [
    "hf_acts = extract_activations(wrapper=hf100b_wrapper, prompts=DATA)"
   ]
  },
  {
   "cell_type": "code",
   "execution_count": null,
   "id": "c882f87e",
   "metadata": {},
   "outputs": [],
   "source": [
    "save_fp_acts_to_pt(hf_acts, \"hf100b_acts_nq_answers\")"
   ]
  },
  {
   "cell_type": "code",
   "execution_count": null,
   "id": "6d08da08",
   "metadata": {},
   "outputs": [],
   "source": [
    "hf_acts = load_fp_acts(\"hf100b_acts_nq_answers\")"
   ]
  },
  {
   "cell_type": "code",
   "execution_count": null,
   "id": "86fedb5c",
   "metadata": {},
   "outputs": [],
   "source": [
    "run_logit_lens(\n",
    "    wrapper=hf100b_wrapper,\n",
    "    prompts=DATA,\n",
    "    model_name=\"llama_hf100b\",\n",
    "    dataset_name=\"nq_answers\",\n",
    "    topk=TOPK,\n",
    "    eps=EPS,\n",
    "    skip_input_layer= False, # True to skip embedding\n",
    "    include_final_norm=True,\n",
    "    save_layer_probs=False\n",
    ")"
   ]
  },
  {
   "cell_type": "code",
   "execution_count": null,
   "id": "8833eed4",
   "metadata": {},
   "outputs": [],
   "source": [
    "hf_df = pd.read_csv(\"logs/logit_lens_logs/batch_analysis/dataset_hf1bitllm_0.csv\")"
   ]
  },
  {
   "cell_type": "code",
   "execution_count": 2,
   "id": "00d89afb",
   "metadata": {},
   "outputs": [],
   "source": [
    "import torch\n",
    "\n",
    "data = torch.load(\n",
    "    \"logs/logit_lens_logs/logit_lens_analysis/nq_answers_llama_hf100b.pt\",\n",
    "    weights_only=False  # allow full unpickling\n",
    ")\n"
   ]
  },
  {
   "cell_type": "code",
   "execution_count": 3,
   "id": "db8c9662",
   "metadata": {},
   "outputs": [],
   "source": [
    "import pandas as pd\n",
    "hf_df = pd.DataFrame(data)"
   ]
  },
  {
   "cell_type": "code",
   "execution_count": 4,
   "id": "eee7629c",
   "metadata": {},
   "outputs": [
    {
     "name": "stdout",
     "output_type": "stream",
     "text": [
      "     acc_top1_scalar  acc_topk_scalar  stab_top1_scalar  stab_topk_scalar\n",
      "0                0.0              0.0               0.0               0.0\n",
      "1                0.0              0.0               0.0               0.0\n",
      "2                0.0              0.0               0.0               0.0\n",
      "3                0.0              0.0               0.0               0.0\n",
      "4                0.0              0.0               0.0               0.0\n",
      "..               ...              ...               ...               ...\n",
      "965              0.0              0.0               0.0               0.0\n",
      "966              0.0              0.0               0.0               0.0\n",
      "967              0.0              0.0               0.0               0.0\n",
      "968              0.0              0.0               0.0               0.0\n",
      "969              0.0              0.0               0.0               0.0\n",
      "\n",
      "[970 rows x 4 columns]\n"
     ]
    }
   ],
   "source": [
    "\n",
    "df_with_metrics = compute_scalar_metrics(hf_df, topk=5)\n",
    "\n",
    "# Check results\n",
    "print(df_with_metrics[['acc_top1_scalar', 'acc_topk_scalar', 'stab_top1_scalar', 'stab_topk_scalar']])\n"
   ]
  },
  {
   "cell_type": "code",
   "execution_count": null,
   "id": "7a5db0f0",
   "metadata": {},
   "outputs": [],
   "source": [
    "df = compute_scalar_metrics(hf_df, topk=5)\n",
    "\n",
    "# Check scalar metrics\n",
    "print(df[['acc_top1_scalar', 'acc_topk_scalar', 'stab_top1_scalar', 'stab_topk_scalar']])\n"
   ]
  },
  {
   "cell_type": "code",
   "execution_count": null,
   "id": "93befe36",
   "metadata": {},
   "outputs": [],
   "source": [
    "# Suppose your DataFrame is hf_df\n",
    "df_with_scalars = compute_scalar_metrics(hf_df, topk=5)\n",
    "\n",
    "# See the results\n",
    "print(df_with_scalars[['acc_top1_scalar', 'acc_topk_scalar', 'stab_top1_scalar', 'stab_topk_scalar']])\n"
   ]
  },
  {
   "cell_type": "code",
   "execution_count": null,
   "id": "96f364bc",
   "metadata": {},
   "outputs": [],
   "source": [
    "valid_layer_names = [lname for lname in hf_df['layer_name'].unique() if lname.startswith('layers.')]\n",
    "print(valid_layer_names)\n"
   ]
  },
  {
   "cell_type": "code",
   "execution_count": null,
   "id": "61f5756c",
   "metadata": {},
   "outputs": [],
   "source": [
    "df = compute_scalar_metrics(hf_df, topk=5)\n",
    "\n",
    "# Check the results\n",
    "print(df[['acc_top1_scalar', 'acc_topk_scalar', 'stab_top1_scalar', 'stab_topk_scalar']])"
   ]
  },
  {
   "cell_type": "code",
   "execution_count": null,
   "id": "f1afe80a",
   "metadata": {},
   "outputs": [],
   "source": [
    "TOPK = 5\n",
    "df = hf_df\n",
    "# Pre-allocate lists for results\n",
    "acc_top1_list = []\n",
    "acc_topk_list = []\n",
    "stab_top1_list = []\n",
    "stab_topk_list = []\n",
    "\n",
    "for _, row in df.iterrows():\n",
    "    # Prepare tensors, automatically filtering only 'layers.N'\n",
    "    layer_logits, input_ids, target_ids = prepare_row_tensors_filtered(row)\n",
    "\n",
    "    # Compute metrics\n",
    "    acc_top1 = carry_over_safe_accuracy_top1(layer_logits, target_ids, input_ids)\n",
    "    acc_topk = carry_over_safe_accuracy_topk(layer_logits, target_ids, input_ids, k=TOPK)\n",
    "    stab_top1 = carry_over_safe_stability_top1(layer_logits, input_ids)\n",
    "    stab_topk = carry_over_safe_stability_topk(layer_logits, input_ids, k=TOPK)\n",
    "\n",
    "    # Append results as NumPy arrays\n",
    "    acc_top1_list.append(acc_top1.numpy())\n",
    "    acc_topk_list.append(acc_topk.numpy())\n",
    "    stab_top1_list.append(stab_top1.numpy())\n",
    "    stab_topk_list.append(stab_topk.numpy())\n",
    "\n",
    "# Assign results back to the DataFrame\n",
    "df['acc_top1'] = acc_top1_list\n",
    "df['acc_topk'] = acc_topk_list\n",
    "df['stab_top1'] = stab_top1_list\n",
    "df['stab_topk'] = stab_topk_list\n"
   ]
  },
  {
   "cell_type": "code",
   "execution_count": null,
   "id": "08bed0c0",
   "metadata": {},
   "outputs": [],
   "source": [
    "print(df[['acc_top1', 'acc_topk', 'stab_top1', 'stab_topk']].head())\n"
   ]
  },
  {
   "cell_type": "code",
   "execution_count": null,
   "id": "72f7e118",
   "metadata": {},
   "outputs": [],
   "source": [
    "import torch\n",
    "import numpy as np\n",
    "\n",
    "import torch\n",
    "import numpy as np\n",
    "\n",
    "def safe_mean(seq):\n",
    "    if seq is None:\n",
    "        return 0.0\n",
    "    # convert to flat list of floats\n",
    "    flat = []\n",
    "    for x in seq:\n",
    "        if isinstance(x, torch.Tensor):\n",
    "            flat.append(float(x.item()))\n",
    "        else:\n",
    "            flat.append(float(x))\n",
    "    if len(flat) == 0:\n",
    "        return 0.0\n",
    "    return float(torch.mean(torch.tensor(flat, dtype=torch.float)))\n",
    "\n",
    "df['acc_top1_scalar'] = df['acc_top1'].apply(safe_mean)\n",
    "df['acc_topk_scalar'] = df['acc_topk'].apply(safe_mean)\n",
    "df['stab_top1_scalar'] = df['stab_top1'].apply(safe_mean)\n",
    "df['stab_topk_scalar'] = df['stab_topk'].apply(safe_mean)\n",
    "\n"
   ]
  },
  {
   "cell_type": "code",
   "execution_count": null,
   "id": "5cfff21e",
   "metadata": {},
   "outputs": [],
   "source": [
    "df[['acc_top1_scalar', 'acc_topk_scalar', 'stab_top1_scalar', 'stab_topk_scalar']].head()\n",
    "\n"
   ]
  },
  {
   "cell_type": "code",
   "execution_count": null,
   "id": "f6eb5788",
   "metadata": {},
   "outputs": [],
   "source": [
    "hf_df.columns"
   ]
  },
  {
   "cell_type": "code",
   "execution_count": null,
   "id": "3ad389e0",
   "metadata": {},
   "outputs": [],
   "source": [
    "df[\"layer_name\"].unique()"
   ]
  },
  {
   "cell_type": "code",
   "execution_count": null,
   "id": "29f5063e",
   "metadata": {},
   "outputs": [],
   "source": [
    "TOPK = 5\n",
    "df = hf_df\n",
    "# Pre-allocate lists\n",
    "acc_top1_list = []\n",
    "acc_topk_list = []\n",
    "stab_top1_list = []\n",
    "stab_topk_list = []\n",
    "\n",
    "for _, row in df.iterrows():\n",
    "    layer_logits, input_ids, target_ids = prepare_row_tensors(row)\n",
    "    \n",
    "    acc_top1_list.append(carry_over_safe_accuracy_top1_vectorized(layer_logits, target_ids, input_ids).numpy())\n",
    "    acc_topk_list.append(carry_over_safe_accuracy_topk_vectorized(layer_logits, target_ids, input_ids, k=TOPK).numpy())\n",
    "    stab_top1_list.append(carry_over_safe_stability_top1_vectorized(layer_logits, input_ids).numpy())\n",
    "    stab_topk_list.append(carry_over_safe_stability_topk_vectorized(layer_logits, input_ids, k=TOPK).numpy())\n",
    "\n",
    "# Assign as new columns\n",
    "df['acc_top1'] = acc_top1_list\n",
    "df['acc_topk'] = acc_topk_list\n",
    "df['stab_top1'] = stab_top1_list\n",
    "df['stab_topk'] = stab_topk_list\n"
   ]
  },
  {
   "cell_type": "code",
   "execution_count": null,
   "id": "34814af0",
   "metadata": {},
   "outputs": [],
   "source": [
    "hf_df.columns"
   ]
  },
  {
   "cell_type": "code",
   "execution_count": null,
   "id": "c8d2be10",
   "metadata": {},
   "outputs": [],
   "source": [
    "print(hf_df.head(2))"
   ]
  },
  {
   "cell_type": "code",
   "execution_count": null,
   "id": "8c579f66",
   "metadata": {},
   "outputs": [],
   "source": [
    "import torch\n",
    "\n",
    "df = hf_df\n",
    "# Suppose df is your DataFrame\n",
    "TOPK = 5\n",
    "\n",
    "for _, row in df.iterrows():\n",
    "    layer_logits, input_ids, target_ids = prepare_row_tensors(row)\n",
    "\n",
    "    acc_top1 = carry_over_safe_accuracy_top1(layer_logits, target_ids, input_ids)\n",
    "    #acc_topk = carry_over_safe_accuracy_topk(layer_logits, target_ids, input_ids, k=5)\n",
    "    #stab_top1 = carry_over_safe_stability_top1(layer_logits, input_ids)\n",
    "    #stab_topk = carry_over_safe_stability_topk(layer_logits, input_ids, k=5)\n"
   ]
  },
  {
   "cell_type": "code",
   "execution_count": null,
   "id": "51f67b75",
   "metadata": {},
   "outputs": [],
   "source": [
    "hf_df[\"ece\"][:10]"
   ]
  },
  {
   "cell_type": "code",
   "execution_count": null,
   "id": "49eba702",
   "metadata": {},
   "outputs": [],
   "source": [
    "carry_tokens = set(input_ids[:t+1].tolist())"
   ]
  },
  {
   "cell_type": "code",
   "execution_count": null,
   "id": "fe2a936b",
   "metadata": {},
   "outputs": [],
   "source": [
    "hf_df.isna().sum()"
   ]
  },
  {
   "cell_type": "code",
   "execution_count": null,
   "id": "89f8886f",
   "metadata": {},
   "outputs": [],
   "source": [
    "import pandas as pd\n",
    "import numpy as np\n",
    "\n",
    "# Assuming your logit lens data is loaded into a DataFrame `df`\n",
    "# df = pd.DataFrame(data)  # if not done yet\n",
    "df = hf_df\n",
    "\n",
    "cols_to_check = [\"kl_next_layer_mean\", \"kl_next_layer_seq\", \"nwd\"]\n",
    "\n",
    "def check_nan_inf(x):\n",
    "    \"\"\"Return a tuple of flags: (has_nan, has_pos_inf, has_neg_inf)\"\"\"\n",
    "    if isinstance(x, list):\n",
    "        results = [check_nan_inf(v) for v in x]\n",
    "        has_nan = any(r[0] for r in results)\n",
    "        has_pos_inf = any(r[1] for r in results)\n",
    "        has_neg_inf = any(r[2] for r in results)\n",
    "        return has_nan, has_pos_inf, has_neg_inf\n",
    "    try:\n",
    "        x = float(x)\n",
    "        return np.isnan(x), np.isposinf(x), np.isneginf(x)\n",
    "    except:\n",
    "        return False, False, False\n",
    "\n",
    "# Apply to each column\n",
    "flags = {}\n",
    "for col in cols_to_check:\n",
    "    col_flags = df[col].map(check_nan_inf)\n",
    "    flags[col + \"_nan\"] = col_flags.map(lambda t: t[0])\n",
    "    flags[col + \"_pos_inf\"] = col_flags.map(lambda t: t[1])\n",
    "    flags[col + \"_neg_inf\"] = col_flags.map(lambda t: t[2])\n",
    "\n",
    "# Combine into a DataFrame\n",
    "flags_df = pd.DataFrame(flags)\n",
    "\n",
    "# Get rows with any issue\n",
    "problem_rows = df[flags_df.any(axis=1)]\n",
    "\n",
    "print(\"Rows with NaN or +/- Inf:\")\n",
    "print(problem_rows)\n"
   ]
  },
  {
   "cell_type": "code",
   "execution_count": null,
   "id": "f99401bb",
   "metadata": {},
   "outputs": [],
   "source": [
    "hf_df.isna()"
   ]
  },
  {
   "cell_type": "code",
   "execution_count": null,
   "id": "6bed04a1",
   "metadata": {},
   "outputs": [],
   "source": [
    "cols_to_check = df.columns\n",
    "\n",
    "def has_problem(x):\n",
    "    try:\n",
    "        val = float(x)\n",
    "        return np.isnan(val) or np.isinf(val)\n",
    "    except (ValueError, TypeError):\n",
    "        return False\n",
    "\n",
    "# Boolean mask: True if any column in the row has NaN or ±Inf\n",
    "problem_mask = df[cols_to_check].applymap(has_problem).any(axis=1)\n",
    "\n",
    "# Extract rows with problems\n",
    "problem_rows = df[problem_mask]\n",
    "\n",
    "print(f\"Rows with NaN or ±Inf ({len(problem_rows)} rows):\")\n",
    "print(problem_rows)\n"
   ]
  },
  {
   "cell_type": "code",
   "execution_count": null,
   "id": "12c70541",
   "metadata": {},
   "outputs": [],
   "source": [
    "hf_df.isna().sum()"
   ]
  },
  {
   "cell_type": "code",
   "execution_count": null,
   "id": "133e6f31",
   "metadata": {},
   "outputs": [],
   "source": [
    "for k,v in hf_df[\"kl_next_layer_mean\"].values().isna():\n",
    "\n",
    "    print(k, v)"
   ]
  },
  {
   "cell_type": "code",
   "execution_count": null,
   "id": "f815d4d0",
   "metadata": {},
   "outputs": [],
   "source": [
    "hf_df.info()"
   ]
  },
  {
   "cell_type": "code",
   "execution_count": null,
   "id": "6df4016c",
   "metadata": {},
   "outputs": [],
   "source": [
    "def has_problem_extended(x):\n",
    "    # Check numeric issues\n",
    "    try:\n",
    "        val = float(x)\n",
    "        if np.isnan(val) or np.isinf(val):\n",
    "            return True\n",
    "    except (ValueError, TypeError):\n",
    "        pass\n",
    "    # Check for empty sequences/lists\n",
    "    if isinstance(x, (list, tuple, np.ndarray)) and len(x) == 0:\n",
    "        return True\n",
    "    return False\n",
    "\n",
    "problem_mask = df.applymap(has_problem_extended).any(axis=1)\n",
    "problem_rows = df[problem_mask]\n",
    "\n",
    "print(f\"Rows with NaN, ±Inf, or empty sequences ({len(problem_rows)} rows):\")\n",
    "print(problem_rows)\n"
   ]
  },
  {
   "cell_type": "code",
   "execution_count": null,
   "id": "f2235033",
   "metadata": {},
   "outputs": [],
   "source": [
    "hf_df.iloc[hf_df[\"kl_next_layer_mean\"] == hf_df[\"kl_next_layer_mean\"].isna()]"
   ]
  },
  {
   "cell_type": "code",
   "execution_count": null,
   "id": "b3c81966",
   "metadata": {},
   "outputs": [],
   "source": [
    "pos_inf_counts = df.apply(lambda col: (col == np.inf).sum())\n",
    "neg_inf_counts = df.apply(lambda col: (col == -np.inf).sum())\n",
    "print(f\"{neg_inf_counts}\\n{pos_inf_counts}\")"
   ]
  },
  {
   "cell_type": "code",
   "execution_count": null,
   "id": "a901f94f",
   "metadata": {},
   "outputs": [],
   "source": [
    "#model.save_pretrained(\"Models/\", safe_serialization=True)\n",
    "#tokenizer.save_pretrained(\"Models/\")"
   ]
  }
 ],
 "metadata": {
  "kernelspec": {
   "display_name": "logit-lens-env",
   "language": "python",
   "name": "python3"
  },
  "language_info": {
   "codemirror_mode": {
    "name": "ipython",
    "version": 3
   },
   "file_extension": ".py",
   "mimetype": "text/x-python",
   "name": "python",
   "nbconvert_exporter": "python",
   "pygments_lexer": "ipython3",
   "version": "3.10.12"
  }
 },
 "nbformat": 4,
 "nbformat_minor": 5
}
