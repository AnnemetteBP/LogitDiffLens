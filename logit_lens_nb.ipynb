{
 "cells": [
  {
   "cell_type": "markdown",
   "id": "8a21ec2e",
   "metadata": {},
   "source": [
    "# -------------------------------\n",
    "# MI Logit Lens Notebook\n",
    "# -------------------------------"
   ]
  },
  {
   "cell_type": "code",
   "execution_count": null,
   "id": "4abd130c",
   "metadata": {},
   "outputs": [],
   "source": [
    "from pathlib import Path\n",
    "from datasets import load_dataset, DownloadMode\n",
    "import torch\n",
    "from transformers import AutoModelForCausalLM, AutoTokenizer, BitsAndBytesConfig\n",
    "import numpy as np\n",
    "import pandas as pd\n",
    "import matplotlib.pyplot as plt\n",
    "import seaborn as sns\n",
    "\n",
    "from quant_configs.bnb_configs import load_bnb_in_8bit, load_bnb_in_4bit\n",
    "from mi_utils.util.logit_lens_utils.logit_lens_wrapper import LogitLensWrapper\n",
    "\n",
    "from mi_utils.logit_lens.logit_lens_degradation_analysis import (\n",
    "    analyze_UNSAFE_degradation,\n",
    "    analyze_SAFE_degradation,\n",
    ")\n",
    "\n",
    "from mi_utils.logit_lens.logit_lens_unsafe_analysis import run_logit_lens_unsafe\n",
    "from mi_utils.logit_lens.logit_lens_analysis import run_logit_lens\n",
    "\n",
    "from mi_utils.logit_lens.metric_utils.logit_lens_helpers import (\n",
    "    save_results_to_csv,\n",
    "    get_activation_tensor,\n",
    "    extract_activations\n",
    ")\n",
    "\n",
    "from mi_utils.logit_lens.metric_utils.interp_degradation_scores import (\n",
    "    degradation_diff_score,\n",
    "    interpretability_diff_score,\n",
    "    degradation_score\n",
    ")\n",
    "\n",
    "from mi_utils.logit_lens.plotting_utils.lens_plotting import (\n",
    "    plot_layer_metric_two_dfs,\n",
    "    plot_layer_deviation,\n",
    "    qq_plot_probs\n",
    ")"
   ]
  },
  {
   "cell_type": "markdown",
   "id": "076bac63",
   "metadata": {},
   "source": [
    "# -------------------------------\n",
    "# Models\n",
    "# -------------------------------"
   ]
  },
  {
   "cell_type": "code",
   "execution_count": null,
   "id": "c3693486",
   "metadata": {},
   "outputs": [],
   "source": [
    "from enum import Enum\n",
    "\n",
    "class Models(Enum):\n",
    "    GPT2 = \"Models/GPT2\"\n",
    "    LAIN8B = \"Models/LLaMA3Instruct\"\n",
    "    HF100B = \"Models/HF1BitLLM100Btokens\"\n",
    "    HF10BL = \"Models/HF1BitLLMLinear10B\"\n",
    "    HF10BS = \"Models/HF1BitLLMSigmoid10B\"\n",
    "    OL1B = \"Models/OLMo1B\"\n",
    "    OL7B = \"Models/OLMo1B\"\n",
    "    DH3B = \"DHLLaMA3B\"\n",
    "    DH8B = \"DHLLaMA8B\"\n",
    "\n",
    "class Names(Enum):\n",
    "    GPT2 = \"GPT2\"\n",
    "    LAIN8B = \"Meta-Llama-3-8B-Instruct\"\n",
    "    HF100B = \"Models/Llama3-8B-1.58-100B-tokens\"\n",
    "    HF10BL = \"Llama3-8B-1.58-Linear-10B-tokens\"\n",
    "    HF10BS = \"Llama3-8B-1.58-Sigmoid-k100-10B-tokens\"\n",
    "    OL1B = \"OLMo-1B-hf\"\n",
    "    OL7B = \"OLMo-7B-hf\"\n",
    "    DH3B = \"DeepHermes-3-Llama-3-3B-Preview\"\n",
    "    DH8B = \"DeepHermes-3-Llama-3-8B-Preview\""
   ]
  },
  {
   "cell_type": "code",
   "execution_count": null,
   "id": "26795d55",
   "metadata": {},
   "outputs": [],
   "source": [
    "def load_model_and_tok(\n",
    "        model_name:str,\n",
    "        output_hidden_states:bool=True,\n",
    "        low_cpu_mem_usage:bool=True,\n",
    "        local_files_only:bool=True,\n",
    "        device_map:str=\"cuda\",\n",
    "        dtype=torch.bfloat16\n",
    ") -> tuple[AutoModelForCausalLM, AutoTokenizer]:\n",
    "    \n",
    "    tok = AutoTokenizer.from_pretrained(model_name)\n",
    "\n",
    "    model = AutoModelForCausalLM.from_pretrained(\n",
    "    model_name,\n",
    "    #output_hidden_states=output_hidden_states,\n",
    "    low_cpu_mem_usage=low_cpu_mem_usage,\n",
    "    local_files_only=local_files_only,\n",
    "    device_map=device_map,\n",
    "    torch_dtype=dtype\n",
    "    )\n",
    "\n",
    "    return model, tok"
   ]
  },
  {
   "cell_type": "markdown",
   "id": "65e6eade",
   "metadata": {},
   "source": [
    "# -------------------------------\n",
    "# Parameters & Datasets\n",
    "# -------------------------------"
   ]
  },
  {
   "cell_type": "code",
   "execution_count": null,
   "id": "a16dc6ee",
   "metadata": {},
   "outputs": [],
   "source": [
    "LL_DIR = \"logs/logit_lens_logs\"\n",
    "\n",
    "BATCH_DIR = f\"{LL_DIR}/batch_analysis\"\n",
    "INTERP_DIR = f\"{LL_DIR}/interp_analysis\"\n",
    "\n",
    "NQ_DIR = \"natural_questions\"\n",
    "GS_DIR = \"gsm8k\""
   ]
  },
  {
   "cell_type": "code",
   "execution_count": null,
   "id": "4edc2292",
   "metadata": {},
   "outputs": [],
   "source": [
    "EPS = 1e-12 \n",
    "TOPK = 5"
   ]
  },
  {
   "cell_type": "code",
   "execution_count": null,
   "id": "738abf36",
   "metadata": {},
   "outputs": [],
   "source": [
    "GPT_L = [\"final_layernorm\", \"lm_head\"]\n",
    "LLAMA_L = [\"norm\", \"lm_head\"]"
   ]
  },
  {
   "cell_type": "code",
   "execution_count": null,
   "id": "58eafd1d",
   "metadata": {},
   "outputs": [],
   "source": [
    "texts = [\"Hello world\", \"This is a test\"]"
   ]
  },
  {
   "cell_type": "code",
   "execution_count": null,
   "id": "d579af40",
   "metadata": {},
   "outputs": [],
   "source": [
    "filepath = r'D:\\LogitLensData\\nq'\n",
    "\n",
    "destination_path = str(Path(filepath))\n",
    "nq_dataset = load_dataset(\n",
    "    'sentence-transformers/natural-questions',\n",
    "    split={\n",
    "        'train': 'train[:20]'\n",
    "    },\n",
    "    cache_dir=destination_path,\n",
    "    download_mode=DownloadMode.REUSE_DATASET_IF_EXISTS,\n",
    "    keep_in_memory=True\n",
    ")"
   ]
  },
  {
   "cell_type": "code",
   "execution_count": null,
   "id": "25546dfa",
   "metadata": {},
   "outputs": [],
   "source": [
    "nq_queries= nq_dataset['train']['query']\n",
    "nq_answers = nq_dataset['train']['answer']"
   ]
  },
  {
   "cell_type": "code",
   "execution_count": null,
   "id": "5e883d12",
   "metadata": {},
   "outputs": [],
   "source": [
    "filepath = r'D:\\LogitLensData\\gsm8k'\n",
    "\n",
    "destination_path = str(Path(filepath))\n",
    "gsm8k_dataset = load_dataset(\n",
    "    'gsm8k', 'main',\n",
    "    split={\n",
    "        'train': 'train[:20]'\n",
    "    },\n",
    "    cache_dir=destination_path,\n",
    "    download_mode=DownloadMode.REUSE_DATASET_IF_EXISTS,\n",
    "    keep_in_memory=True\n",
    ")"
   ]
  },
  {
   "cell_type": "code",
   "execution_count": null,
   "id": "7d634db6",
   "metadata": {},
   "outputs": [],
   "source": [
    "gsm8k_questions = gsm8k_dataset['train']['question']\n",
    "gsm8k_answers = gsm8k_dataset['train']['answer']"
   ]
  },
  {
   "cell_type": "code",
   "execution_count": null,
   "id": "5630f4d1",
   "metadata": {},
   "outputs": [],
   "source": [
    "DATA = nq_queries"
   ]
  },
  {
   "cell_type": "markdown",
   "id": "08bed2eb",
   "metadata": {},
   "source": [
    "# -------------------------------\n",
    "# 1. GPT2\n",
    "# -------------------------------"
   ]
  },
  {
   "cell_type": "markdown",
   "id": "2bbf4a7d",
   "metadata": {},
   "source": [
    "## -------------------------------\n",
    "## 1.a. GPT2: 4-bit BnB\n",
    "## -------------------------------"
   ]
  },
  {
   "cell_type": "code",
   "execution_count": null,
   "id": "2d31db18",
   "metadata": {},
   "outputs": [],
   "source": [
    "gpt2, gpt2_tok = load_model_and_tok(Models.GPT2.value, dtype=torch.float32)"
   ]
  },
  {
   "cell_type": "code",
   "execution_count": null,
   "id": "d9342e82",
   "metadata": {},
   "outputs": [],
   "source": [
    "gpt2_wrapper = LogitLensWrapper(\n",
    "    model=gpt2,\n",
    "    tokenizer=gpt2_tok,\n",
    "    block_step=1,\n",
    "    include_input=True,\n",
    "    force_include_output=True,\n",
    "    include_subblocks=True,\n",
    "    decoder_layer_names=[\"final_layernorm\", \"lm_head\"],\n",
    "    device=\"cuda\"\n",
    ")"
   ]
  },
  {
   "cell_type": "code",
   "execution_count": null,
   "id": "779c2f5d",
   "metadata": {},
   "outputs": [],
   "source": [
    "fp_acts = extract_activations(wrapper=gpt2_wrapper, prompts=texts)"
   ]
  },
  {
   "cell_type": "code",
   "execution_count": null,
   "id": "c97264f2",
   "metadata": {},
   "outputs": [],
   "source": [
    "fp_acts"
   ]
  },
  {
   "cell_type": "code",
   "execution_count": null,
   "id": "2998ee19",
   "metadata": {},
   "outputs": [],
   "source": [
    "gpt2_4bit, gpt2_4bit_tok = load_bnb_in_4bit(Models.GPT2.value, dtype=torch.float16)"
   ]
  },
  {
   "cell_type": "code",
   "execution_count": null,
   "id": "940d272a",
   "metadata": {},
   "outputs": [],
   "source": [
    "gpt2_4bit_wrapper = LogitLensWrapper(\n",
    "    model=gpt2_4bit,\n",
    "    tokenizer=gpt2_4bit_tok,\n",
    "    block_step=1,\n",
    "    include_input=True,\n",
    "    force_include_output=True,\n",
    "    include_subblocks=True,\n",
    "    decoder_layer_names=[\"final_layernorm\", \"lm_head\"],\n",
    "    device=\"cuda\"\n",
    ")"
   ]
  },
  {
   "cell_type": "code",
   "execution_count": null,
   "id": "57fc9545",
   "metadata": {},
   "outputs": [],
   "source": [
    "q_acts = extract_activations(wrapper=gpt2_4bit_wrapper, prompts=texts)"
   ]
  },
  {
   "cell_type": "code",
   "execution_count": null,
   "id": "aa896fa9",
   "metadata": {},
   "outputs": [],
   "source": [
    "run_logit_lens_unsafe(\n",
    "    wrapper=gpt2_4bit_wrapper,\n",
    "    prompts=texts,\n",
    "    model_name=\"gpt2_4bit\",\n",
    "    dataset_name=\"test\",\n",
    "    A_acts=fp_acts,\n",
    "    B_acts=q_acts,\n",
    "    topk=TOPK,\n",
    "    skip_input_layer= True,\n",
    "    include_final_norm=True,\n",
    "    save_layer_probs=False\n",
    ")"
   ]
  },
  {
   "cell_type": "code",
   "execution_count": null,
   "id": "7ce1af17",
   "metadata": {},
   "outputs": [],
   "source": [
    "df = pd.read_csv(\"logs/logit_lens_logs/batch_analysis/test_gpt2_4bit.csv\")"
   ]
  },
  {
   "cell_type": "code",
   "execution_count": null,
   "id": "aedc8b2b",
   "metadata": {},
   "outputs": [],
   "source": [
    "print(df.head(2))"
   ]
  },
  {
   "cell_type": "code",
   "execution_count": null,
   "id": "aa1e5fd4",
   "metadata": {},
   "outputs": [],
   "source": [
    "print(df.head(2))"
   ]
  },
  {
   "cell_type": "code",
   "execution_count": null,
   "id": "ae22067d",
   "metadata": {},
   "outputs": [],
   "source": [
    "df.columns"
   ]
  },
  {
   "cell_type": "code",
   "execution_count": null,
   "id": "c834e80e",
   "metadata": {},
   "outputs": [],
   "source": [
    "df[\"entropy_seq\"]"
   ]
  },
  {
   "cell_type": "code",
   "execution_count": null,
   "id": "b2eb97ad",
   "metadata": {},
   "outputs": [],
   "source": [
    "pos_inf_counts = df.apply(lambda col: (col == np.inf).sum())\n",
    "neg_inf_counts = df.apply(lambda col: (col == -np.inf).sum())\n",
    "print(f\"{neg_inf_counts}\\n{pos_inf_counts}\")"
   ]
  },
  {
   "cell_type": "code",
   "execution_count": null,
   "id": "34f2c652",
   "metadata": {},
   "outputs": [],
   "source": [
    "for k,v in df.items():\n",
    "    print(v[0])"
   ]
  },
  {
   "cell_type": "code",
   "execution_count": null,
   "id": "8082abb8",
   "metadata": {},
   "outputs": [],
   "source": [
    "df[\"layer_name\"].unique()"
   ]
  },
  {
   "cell_type": "code",
   "execution_count": null,
   "id": "95b315b5",
   "metadata": {},
   "outputs": [],
   "source": [
    "df.isna().sum()"
   ]
  },
  {
   "cell_type": "code",
   "execution_count": null,
   "id": "329ce700",
   "metadata": {},
   "outputs": [],
   "source": [
    "run_logit_lens_unsafe(\n",
    "    wrapper=gpt2_wrapper,\n",
    "    prompts=texts,\n",
    "    model_name=\"gpt2_fp\",\n",
    "    dataset_name=\"test\",\n",
    "    A_acts=fp_acts,\n",
    "    B_acts=fp_acts,\n",
    "    topk=TOPK,\n",
    "    skip_input_layer= True,\n",
    "    include_final_norm=True,\n",
    "    save_layer_probs=False\n",
    ")"
   ]
  },
  {
   "cell_type": "code",
   "execution_count": null,
   "id": "7899c7bd",
   "metadata": {},
   "outputs": [],
   "source": [
    "df_fp = pd.read_csv(\"logs/logit_lens_logs/batch_analysis/test_gpt2_fp.csv\")"
   ]
  },
  {
   "cell_type": "code",
   "execution_count": null,
   "id": "66dcb1be",
   "metadata": {},
   "outputs": [],
   "source": [
    "print(df_fp.head(2))"
   ]
  },
  {
   "cell_type": "code",
   "execution_count": null,
   "id": "1cfdcc84",
   "metadata": {},
   "outputs": [],
   "source": [
    "df_fp[\"layer_name\"].unique()"
   ]
  },
  {
   "cell_type": "code",
   "execution_count": null,
   "id": "08fa9a3e",
   "metadata": {},
   "outputs": [],
   "source": [
    "df_fp.columns"
   ]
  },
  {
   "cell_type": "code",
   "execution_count": null,
   "id": "781da7a4",
   "metadata": {},
   "outputs": [],
   "source": [
    "pos_inf_counts = df_fp.apply(lambda col: (col == np.inf).sum())\n",
    "neg_inf_counts = df_fp.apply(lambda col: (col == -np.inf).sum())\n",
    "print(f\"{neg_inf_counts}\\n{pos_inf_counts}\")"
   ]
  },
  {
   "cell_type": "code",
   "execution_count": null,
   "id": "8303ae81",
   "metadata": {},
   "outputs": [],
   "source": [
    "df_fp.isna().sum()"
   ]
  },
  {
   "cell_type": "code",
   "execution_count": null,
   "id": "80407ed9",
   "metadata": {},
   "outputs": [],
   "source": [
    "print(df.head(2))"
   ]
  },
  {
   "cell_type": "code",
   "execution_count": null,
   "id": "c9e17d81",
   "metadata": {},
   "outputs": [],
   "source": [
    "print(df_fp.head(2))"
   ]
  },
  {
   "cell_type": "code",
   "execution_count": null,
   "id": "e6acc81e",
   "metadata": {},
   "outputs": [],
   "source": [
    "gpt2_4bit_unsafe_results = analyze_UNSAFE_degradation(gpt2_4bit_wrapper, texts=texts, top_k=TOPK, decoder=None)"
   ]
  },
  {
   "cell_type": "code",
   "execution_count": null,
   "id": "a9654b9d",
   "metadata": {},
   "outputs": [],
   "source": [
    "save_results_to_csv(gpt2_4bit_unsafe_results, filename=f\"{LL_DIR}gpt2-4bit_unsafe_results.csv\")"
   ]
  },
  {
   "cell_type": "code",
   "execution_count": null,
   "id": "48fbf85e",
   "metadata": {},
   "outputs": [],
   "source": [
    "gpt2_4bit_section_scores, gpt2_4bit_overall_score = degradation_score(gpt2_4bit_unsafe_results)\n",
    "\n",
    "print(\"Section scores:\", gpt2_4bit_section_scores)\n",
    "print(\"Overall interpretability score:\", gpt2_4bit_overall_score)"
   ]
  },
  {
   "cell_type": "code",
   "execution_count": null,
   "id": "6164be9a",
   "metadata": {},
   "outputs": [],
   "source": [
    "gpt2_4bit_safe_results = analyze_SAFE_degradation(gpt2_4bit_wrapper, texts, top_k=5, decoder=None)"
   ]
  },
  {
   "cell_type": "code",
   "execution_count": null,
   "id": "094f0e44",
   "metadata": {},
   "outputs": [],
   "source": [
    "save_results_to_csv(gpt2_4bit_safe_results, filename=f\"{LL_DIR}gpt2-4bit_safe_results.csv\")"
   ]
  },
  {
   "cell_type": "markdown",
   "id": "c9dd0648",
   "metadata": {},
   "source": [
    "# -------------------------------\n",
    "# 2. HF1BitLLM/Llama3-8B-1.58-100B-tokens\n",
    "# -------------------------------"
   ]
  },
  {
   "cell_type": "code",
   "execution_count": null,
   "id": "c676a9b7",
   "metadata": {},
   "outputs": [],
   "source": [
    "#hf100b_m, hf100b_tok = load_model_and_tok(Models.HF100B.value, dtype=torch.bfloat16)\n",
    "hf100b_m, hf100b_tok = load_model_and_tok(Models.HF100B.value, dtype=torch.float32)"
   ]
  },
  {
   "cell_type": "code",
   "execution_count": null,
   "id": "7ae18de6",
   "metadata": {},
   "outputs": [],
   "source": [
    "wrapper = LogitLensWrapper(\n",
    "    model=hf100b_m,\n",
    "    tokenizer=hf100b_tok,\n",
    "    block_step=1,\n",
    "    include_input=True,\n",
    "    force_include_output=True,\n",
    "    include_subblocks=True,\n",
    "    decoder_layer_names=[\"norm\", \"lm_head\"], \n",
    "    device=\"cuda\"\n",
    ")"
   ]
  },
  {
   "cell_type": "code",
   "execution_count": null,
   "id": "40a96aa4",
   "metadata": {},
   "outputs": [],
   "source": [
    "hf100b_unsafe_results = analyze_UNSAFE_degradation(wrapper, texts, top_k=5, decoder=None)"
   ]
  },
  {
   "cell_type": "code",
   "execution_count": null,
   "id": "43c946ca",
   "metadata": {},
   "outputs": [],
   "source": [
    "save_results_to_csv(hf100b_unsafe_results, filename=f\"{LL_DIR}hf100b_unsafe_results.csv\")"
   ]
  },
  {
   "cell_type": "code",
   "execution_count": null,
   "id": "3684faa3",
   "metadata": {},
   "outputs": [],
   "source": [
    "hf100b_section_scores, hf100b_overall_score = degradation_score(hf100b_unsafe_results)\n",
    "\n",
    "print(\"Section scores:\", hf100b_section_scores)\n",
    "print(\"Overall interpretability score:\", hf100b_overall_score)"
   ]
  },
  {
   "cell_type": "code",
   "execution_count": null,
   "id": "882e6a59",
   "metadata": {},
   "outputs": [],
   "source": [
    "hf_acts = extract_activations(wrapper=wrapper, prompts=texts)"
   ]
  },
  {
   "cell_type": "code",
   "execution_count": null,
   "id": "cd654ded",
   "metadata": {},
   "outputs": [],
   "source": [
    "run_logit_lens_unsafe(\n",
    "    wrapper=wrapper,\n",
    "    prompts=texts,\n",
    "    model_name=\"hf1bitllm_0\",\n",
    "    A_acts=hf_acts,\n",
    "    B_acts=hf_acts,\n",
    "    topk=TOPK,\n",
    "    skip_input_layer= True,\n",
    "    include_final_norm=True,\n",
    "    save_layer_probs=True\n",
    ")"
   ]
  },
  {
   "cell_type": "code",
   "execution_count": null,
   "id": "8833eed4",
   "metadata": {},
   "outputs": [],
   "source": [
    "hf_df = pd.read_csv(\"logs/logit_lens_logs/batch_analysis/dataset_hf1bitllm_0.csv\")"
   ]
  },
  {
   "cell_type": "code",
   "execution_count": null,
   "id": "34814af0",
   "metadata": {},
   "outputs": [],
   "source": [
    "hf_df.columns"
   ]
  },
  {
   "cell_type": "code",
   "execution_count": null,
   "id": "b0ec6c14",
   "metadata": {},
   "outputs": [],
   "source": [
    "print(hf_df.head(2))"
   ]
  },
  {
   "cell_type": "code",
   "execution_count": null,
   "id": "fe2a936b",
   "metadata": {},
   "outputs": [],
   "source": [
    "df.columns"
   ]
  },
  {
   "cell_type": "code",
   "execution_count": null,
   "id": "a901f94f",
   "metadata": {},
   "outputs": [],
   "source": [
    "#model.save_pretrained(\"Models/\", safe_serialization=True)\n",
    "#tokenizer.save_pretrained(\"Models/\")"
   ]
  }
 ],
 "metadata": {
  "kernelspec": {
   "display_name": "logit-lens-env",
   "language": "python",
   "name": "python3"
  },
  "language_info": {
   "codemirror_mode": {
    "name": "ipython",
    "version": 3
   },
   "file_extension": ".py",
   "mimetype": "text/x-python",
   "name": "python",
   "nbconvert_exporter": "python",
   "pygments_lexer": "ipython3",
   "version": "3.10.12"
  }
 },
 "nbformat": 4,
 "nbformat_minor": 5
}
