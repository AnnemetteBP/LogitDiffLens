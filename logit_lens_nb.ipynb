{
 "cells": [
  {
   "cell_type": "markdown",
   "id": "8a21ec2e",
   "metadata": {},
   "source": [
    "# -------------------------------\n",
    "# MI Logit Lens Notebook\n",
    "# -------------------------------"
   ]
  },
  {
   "cell_type": "code",
   "execution_count": 1,
   "id": "4abd130c",
   "metadata": {},
   "outputs": [],
   "source": [
    "from pathlib import Path\n",
    "from datasets import load_dataset, DownloadMode\n",
    "import torch\n",
    "from transformers import AutoModelForCausalLM, AutoTokenizer, BitsAndBytesConfig\n",
    "import numpy as np\n",
    "import pandas as pd\n",
    "import matplotlib.pyplot as plt\n",
    "import seaborn as sns\n",
    "\n",
    "from quant_configs.bnb_configs import load_bnb_in_8bit, load_bnb_in_4bit\n",
    "from mi_utils.util.logit_lens_utils.logit_lens_wrapper import LogitLensWrapper\n",
    "\n",
    "from mi_utils.logit_lens.logit_lens_degradation_analysis import (\n",
    "    analyze_UNSAFE_degradation,\n",
    "    analyze_SAFE_degradation,\n",
    ")\n",
    "\n",
    "from mi_utils.logit_lens.logit_lens_analysis import run_logit_lens\n",
    "\n",
    "from mi_utils.logit_lens.metric_utils.logit_lens_helpers import (\n",
    "    save_results_to_csv,\n",
    "    get_activation_tensor,\n",
    "    extract_activations,\n",
    "    load_results_from_pt\n",
    ")\n",
    "\n",
    "from mi_utils.logit_lens.metric_utils.interp_degradation_scores import (\n",
    "    degradation_diff_score,\n",
    "    interpretability_diff_score,\n",
    "    degradation_score\n",
    ")\n",
    "\n",
    "from mi_utils.logit_lens.plotting_utils.lens_plotting import (\n",
    "    plot_layer_metric_two_dfs,\n",
    "    plot_layer_deviation,\n",
    "    qq_plot_probs\n",
    ")\n",
    "\n",
    "from mi_utils.logit_lens.metric_utils.carry_over_safe_metrics import get_carry_over_safe_with_embedding"
   ]
  },
  {
   "cell_type": "markdown",
   "id": "076bac63",
   "metadata": {},
   "source": [
    "# -------------------------------\n",
    "# Models\n",
    "# -------------------------------"
   ]
  },
  {
   "cell_type": "code",
   "execution_count": 2,
   "id": "c3693486",
   "metadata": {},
   "outputs": [],
   "source": [
    "from enum import Enum\n",
    "\n",
    "class Models(Enum):\n",
    "    GPT2 = \"Models/GPT2\"\n",
    "    LAIN8B = \"Models/LLaMA3Instruct\"\n",
    "    HF100B = \"Models/HF1BitLLM100Btokens\"\n",
    "    HF10BL = \"Models/HF1BitLLMLinear10B\"\n",
    "    HF10BS = \"Models/HF1BitLLMSigmoid10B\"\n",
    "    OL1B = \"Models/OLMo1B\"\n",
    "    OL7B = \"Models/OLMo1B\"\n",
    "    DH3B = \"DHLLaMA3B\"\n",
    "    DH8B = \"DHLLaMA8B\"\n",
    "\n",
    "class Names(Enum):\n",
    "    GPT2 = \"GPT2\"\n",
    "    LAIN8B = \"Meta-Llama-3-8B-Instruct\"\n",
    "    HF100B = \"Models/Llama3-8B-1.58-100B-tokens\"\n",
    "    HF10BL = \"Llama3-8B-1.58-Linear-10B-tokens\"\n",
    "    HF10BS = \"Llama3-8B-1.58-Sigmoid-k100-10B-tokens\"\n",
    "    OL1B = \"OLMo-1B-hf\"\n",
    "    OL7B = \"OLMo-7B-hf\"\n",
    "    DH3B = \"DeepHermes-3-Llama-3-3B-Preview\"\n",
    "    DH8B = \"DeepHermes-3-Llama-3-8B-Preview\""
   ]
  },
  {
   "cell_type": "code",
   "execution_count": 3,
   "id": "26795d55",
   "metadata": {},
   "outputs": [],
   "source": [
    "def load_model_and_tok(\n",
    "        model_name:str,\n",
    "        output_hidden_states:bool=True,\n",
    "        low_cpu_mem_usage:bool=True,\n",
    "        local_files_only:bool=True,\n",
    "        device_map:str=\"cuda\",\n",
    "        dtype=torch.bfloat16\n",
    ") -> tuple[AutoModelForCausalLM, AutoTokenizer]:\n",
    "    \n",
    "    tok = AutoTokenizer.from_pretrained(model_name)\n",
    "\n",
    "    model = AutoModelForCausalLM.from_pretrained(\n",
    "    model_name,\n",
    "    #output_hidden_states=output_hidden_states,\n",
    "    low_cpu_mem_usage=low_cpu_mem_usage,\n",
    "    local_files_only=local_files_only,\n",
    "    device_map=device_map,\n",
    "    torch_dtype=dtype\n",
    "    )\n",
    "\n",
    "    return model, tok"
   ]
  },
  {
   "cell_type": "code",
   "execution_count": 4,
   "id": "75587dea",
   "metadata": {},
   "outputs": [],
   "source": [
    "def save_fp_acts_to_pt(fp_acts, save_name:str) -> None:\n",
    "    fp_acts_to_save = {}\n",
    "    for lname, act in fp_acts.items():\n",
    "        fp_acts_to_save[lname] = {\n",
    "            \"hidden\": act[\"hidden\"].detach().cpu(),\n",
    "            \"mask\": act[\"mask\"].detach().cpu()\n",
    "        }\n",
    "\n",
    "    torch.save(fp_acts_to_save, f\"logs/cka_svcca_acts/{save_name}.pt\")\n",
    "\n",
    "def load_fp_acts(fp_acts_name:str):\n",
    "    fp_acts = torch.load(f\"logs/cka_svcca_acts/{fp_acts_name}.pt\")\n",
    "    return fp_acts"
   ]
  },
  {
   "cell_type": "markdown",
   "id": "65e6eade",
   "metadata": {},
   "source": [
    "# -------------------------------\n",
    "# Parameters & Datasets\n",
    "# -------------------------------"
   ]
  },
  {
   "cell_type": "code",
   "execution_count": 5,
   "id": "a16dc6ee",
   "metadata": {},
   "outputs": [],
   "source": [
    "LL_DIR = \"logs/logit_lens_logs\"\n",
    "\n",
    "BATCH_DIR = f\"{LL_DIR}/batch_analysis\"\n",
    "INTERP_DIR = f\"{LL_DIR}/interp_analysis\"\n",
    "\n",
    "NQ_DIR = \"natural_questions\"\n",
    "GS_DIR = \"gsm8k\""
   ]
  },
  {
   "cell_type": "code",
   "execution_count": 6,
   "id": "4edc2292",
   "metadata": {},
   "outputs": [],
   "source": [
    "EPS = 1e-8 \n",
    "TOPK = 5"
   ]
  },
  {
   "cell_type": "code",
   "execution_count": 7,
   "id": "738abf36",
   "metadata": {},
   "outputs": [],
   "source": [
    "GPT_L = [\"final_layernorm\", \"lm_head\"]\n",
    "LLAMA_L = [\"norm\", \"lm_head\"]"
   ]
  },
  {
   "cell_type": "code",
   "execution_count": null,
   "id": "58eafd1d",
   "metadata": {},
   "outputs": [],
   "source": [
    "texts = [\"Hello world\", \"This is a test\"]"
   ]
  },
  {
   "cell_type": "code",
   "execution_count": 8,
   "id": "d579af40",
   "metadata": {},
   "outputs": [
    {
     "data": {
      "application/vnd.jupyter.widget-view+json": {
       "model_id": "5d37bc69d8f6430d825dc8a492e37c2e",
       "version_major": 2,
       "version_minor": 0
      },
      "text/plain": [
       "Generating train split:   0%|          | 0/100231 [00:00<?, ? examples/s]"
      ]
     },
     "metadata": {},
     "output_type": "display_data"
    }
   ],
   "source": [
    "filepath = r'D:\\LogitLensData\\nq'\n",
    "\n",
    "destination_path = str(Path(filepath))\n",
    "nq_dataset = load_dataset(\n",
    "    'sentence-transformers/natural-questions',\n",
    "    split={\n",
    "        'train': 'train[:20]'\n",
    "    },\n",
    "    cache_dir=destination_path,\n",
    "    download_mode=DownloadMode.REUSE_DATASET_IF_EXISTS,\n",
    "    keep_in_memory=True\n",
    ")"
   ]
  },
  {
   "cell_type": "code",
   "execution_count": 9,
   "id": "25546dfa",
   "metadata": {},
   "outputs": [],
   "source": [
    "nq_queries = list(nq_dataset['train']['query'])\n",
    "nq_answers = list(nq_dataset['train']['answer'])"
   ]
  },
  {
   "cell_type": "code",
   "execution_count": 9,
   "id": "5de5f791",
   "metadata": {},
   "outputs": [],
   "source": [
    "nq_queries = nq_dataset['train']['query']\n",
    "nq_answers = nq_dataset['train']['answer']"
   ]
  },
  {
   "cell_type": "code",
   "execution_count": null,
   "id": "5e883d12",
   "metadata": {},
   "outputs": [],
   "source": [
    "filepath = r'D:\\LogitLensData\\gsm8k'\n",
    "\n",
    "destination_path = str(Path(filepath))\n",
    "gsm8k_dataset = load_dataset(\n",
    "    'gsm8k', 'main',\n",
    "    split={\n",
    "        'train': 'train[:20]'\n",
    "    },\n",
    "    cache_dir=destination_path,\n",
    "    download_mode=DownloadMode.REUSE_DATASET_IF_EXISTS,\n",
    "    keep_in_memory=True\n",
    ")"
   ]
  },
  {
   "cell_type": "code",
   "execution_count": null,
   "id": "7d634db6",
   "metadata": {},
   "outputs": [],
   "source": [
    "gsm8k_questions = gsm8k_dataset['train']['question']\n",
    "gsm8k_answers = gsm8k_dataset['train']['answer']"
   ]
  },
  {
   "cell_type": "code",
   "execution_count": 13,
   "id": "5630f4d1",
   "metadata": {},
   "outputs": [],
   "source": [
    "DATA = nq_queries"
   ]
  },
  {
   "cell_type": "markdown",
   "id": "16d636bc",
   "metadata": {},
   "source": [
    "# -------------------------------\n",
    "# Extract and save FP Activations for CKA/SVCCA\n",
    "# -------------------------------"
   ]
  },
  {
   "cell_type": "code",
   "execution_count": null,
   "id": "68036fab",
   "metadata": {},
   "outputs": [],
   "source": [
    "llama_fp, llama_tok = load_model_and_tok(Models.LAIN8B.value, device_map=\"cpu\", dtype=torch.float32)"
   ]
  },
  {
   "cell_type": "code",
   "execution_count": null,
   "id": "2f9a7932",
   "metadata": {},
   "outputs": [],
   "source": [
    "llama_fp_wrapper = LogitLensWrapper(\n",
    "    model=llama_fp,\n",
    "    tokenizer=llama_tok,\n",
    "    block_step=1,\n",
    "    include_input=True,\n",
    "    force_include_output=True,\n",
    "    include_subblocks=True,\n",
    "    decoder_layer_names=LLAMA_L,\n",
    "    device=\"cpu\"\n",
    ")"
   ]
  },
  {
   "cell_type": "code",
   "execution_count": null,
   "id": "7065a696",
   "metadata": {},
   "outputs": [],
   "source": [
    "llama_fp_acts = extract_activations(wrapper=llama_fp_wrapper, prompts=nq_answers)"
   ]
  },
  {
   "cell_type": "code",
   "execution_count": null,
   "id": "9cfa24f4",
   "metadata": {},
   "outputs": [],
   "source": [
    "save_fp_acts_to_pt(llama_fp_acts, \"llama_fp_acts_nq_answers\")"
   ]
  },
  {
   "cell_type": "markdown",
   "id": "c9dd0648",
   "metadata": {},
   "source": [
    "# -------------------------------\n",
    "# 2. HF1BitLLM/Llama3-8B-1.58-100B-tokens\n",
    "# -------------------------------"
   ]
  },
  {
   "cell_type": "code",
   "execution_count": 10,
   "id": "c676a9b7",
   "metadata": {},
   "outputs": [],
   "source": [
    "#hf100b_m, hf100b_tok = load_model_and_tok(Models.HF100B.value, dtype=torch.bfloat16)\n",
    "hf100b_m, hf100b_tok = load_model_and_tok(Models.HF100B.value, device_map=\"cpu\", dtype=torch.float32)"
   ]
  },
  {
   "cell_type": "code",
   "execution_count": 11,
   "id": "7ae18de6",
   "metadata": {},
   "outputs": [],
   "source": [
    "hf100b_wrapper = LogitLensWrapper(\n",
    "    model=hf100b_m,\n",
    "    tokenizer=hf100b_tok,\n",
    "    block_step=1,\n",
    "    include_input=True,\n",
    "    force_include_output=True,\n",
    "    include_subblocks=True,\n",
    "    decoder_layer_names=LLAMA_L, \n",
    "    device=\"cpu\",\n",
    "    max_len=16\n",
    ")"
   ]
  },
  {
   "cell_type": "code",
   "execution_count": null,
   "id": "40a96aa4",
   "metadata": {},
   "outputs": [],
   "source": [
    "hf100b_unsafe_results = analyze_UNSAFE_degradation(hf100b_wrapper, texts, top_k=5, decoder=None)"
   ]
  },
  {
   "cell_type": "code",
   "execution_count": null,
   "id": "43c946ca",
   "metadata": {},
   "outputs": [],
   "source": [
    "save_results_to_csv(hf100b_unsafe_results, filename=f\"{LL_DIR}hf100b_unsafe_results.csv\")"
   ]
  },
  {
   "cell_type": "code",
   "execution_count": null,
   "id": "3684faa3",
   "metadata": {},
   "outputs": [],
   "source": [
    "hf100b_section_scores, hf100b_overall_score = degradation_score(hf100b_unsafe_results)\n",
    "\n",
    "print(\"Section scores:\", hf100b_section_scores)\n",
    "print(\"Overall interpretability score:\", hf100b_overall_score)"
   ]
  },
  {
   "cell_type": "code",
   "execution_count": null,
   "id": "882e6a59",
   "metadata": {},
   "outputs": [],
   "source": [
    "hf_acts = extract_activations(wrapper=hf100b_wrapper, prompts=texts)"
   ]
  },
  {
   "cell_type": "code",
   "execution_count": null,
   "id": "ab153480",
   "metadata": {},
   "outputs": [],
   "source": [
    "save_fp_acts_to_pt(hf_acts, \"hf_acts\")"
   ]
  },
  {
   "cell_type": "code",
   "execution_count": null,
   "id": "a81e6a63",
   "metadata": {},
   "outputs": [],
   "source": [
    "llama_fp_acts = load_fp_acts(\"llama_fp_acts_nq_answers\")"
   ]
  },
  {
   "cell_type": "code",
   "execution_count": null,
   "id": "be2ad717",
   "metadata": {},
   "outputs": [],
   "source": [
    "hf_acts = extract_activations(wrapper=hf100b_wrapper, prompts=DATA)"
   ]
  },
  {
   "cell_type": "code",
   "execution_count": null,
   "id": "c882f87e",
   "metadata": {},
   "outputs": [],
   "source": [
    "save_fp_acts_to_pt(hf_acts, \"hf100b_acts_nq_answers\")"
   ]
  },
  {
   "cell_type": "code",
   "execution_count": null,
   "id": "6d08da08",
   "metadata": {},
   "outputs": [],
   "source": [
    "hf_acts = load_fp_acts(\"hf100b_acts_nq_answers\")"
   ]
  },
  {
   "cell_type": "code",
   "execution_count": 14,
   "id": "86fedb5c",
   "metadata": {},
   "outputs": [
    {
     "name": "stderr",
     "output_type": "stream",
     "text": [
      "Starting from v4.46, the `logits` model output will have the same type as the model (except at train time, where it will always be FP32)\n"
     ]
    }
   ],
   "source": [
    "run_logit_lens(\n",
    "    wrapper=hf100b_wrapper,\n",
    "    prompts=DATA,\n",
    "    model_name=\"llama_hf100b\",\n",
    "    dataset_name=\"nq_queries\",\n",
    "    topk=TOPK,\n",
    "    eps=EPS,\n",
    "    skip_input_layer= False, # True to skip embedding\n",
    "    include_final_norm=True,\n",
    "    save_layer_probs=False,\n",
    "    proj_precision=\"fp32\",\n",
    "    max_len=16\n",
    ")"
   ]
  },
  {
   "cell_type": "code",
   "execution_count": 15,
   "id": "00d89afb",
   "metadata": {},
   "outputs": [],
   "source": [
    "import torch\n",
    "\n",
    "data = torch.load(\n",
    "    \"logs/logit_lens_logs/logit_lens_analysis/nq_queries_llama_hf100b.pt\",\n",
    "    weights_only=False  # allow full unpickling\n",
    ")\n"
   ]
  },
  {
   "cell_type": "code",
   "execution_count": 16,
   "id": "db8c9662",
   "metadata": {},
   "outputs": [],
   "source": [
    "import pandas as pd\n",
    "hf_df = pd.DataFrame(data)"
   ]
  },
  {
   "cell_type": "code",
   "execution_count": 17,
   "id": "700d4fe9",
   "metadata": {},
   "outputs": [
    {
     "name": "stderr",
     "output_type": "stream",
     "text": [
      "/media/am/AM/LogitDiffLens/mi_utils/logit_lens/metric_utils/carry_over_safe_metrics.py:156: UserWarning: To copy construct from a tensor, it is recommended to use sourceTensor.detach().clone() or sourceTensor.detach().clone().requires_grad_(True), rather than torch.tensor(sourceTensor).\n",
      "  return layers_tensor, torch.tensor(input_ids, dtype=torch.long), torch.tensor(target_ids, dtype=torch.long)\n"
     ]
    },
    {
     "data": {
      "text/plain": [
       "{'per_prompt': {0: {'acc_top1_scalar': 0.4117647111415863,\n",
       "   'acc_topk_scalar': 0.5882353186607361,\n",
       "   'persistency_top1_scalar': 0.4800758957862854,\n",
       "   'persistency_topk_scalar': 0.08349145948886871,\n",
       "   'consistency_top1_scalar': 0.4117647111415863,\n",
       "   'consistency_topk_scalar': 0.5424836874008179,\n",
       "   'earliness_top1_scalar': 0.0,\n",
       "   'earliness_topk_scalar': 0.018975334241986275},\n",
       "  1: {'acc_top1_scalar': 0.47058823704719543,\n",
       "   'acc_topk_scalar': 0.6470588445663452,\n",
       "   'persistency_top1_scalar': 0.4326375424861908,\n",
       "   'persistency_topk_scalar': 0.09487665444612503,\n",
       "   'consistency_top1_scalar': 0.47058823704719543,\n",
       "   'consistency_topk_scalar': 0.5882353186607361,\n",
       "   'earliness_top1_scalar': 0.0,\n",
       "   'earliness_topk_scalar': 0.009487674571573734},\n",
       "  2: {'acc_top1_scalar': 0.23529411852359772,\n",
       "   'acc_topk_scalar': 0.4117647111415863,\n",
       "   'persistency_top1_scalar': 0.464895635843277,\n",
       "   'persistency_topk_scalar': 0.0759013295173645,\n",
       "   'consistency_top1_scalar': 0.1871657818555832,\n",
       "   'consistency_topk_scalar': 0.387254923582077,\n",
       "   'earliness_top1_scalar': 0.018975332379341125,\n",
       "   'earliness_topk_scalar': 0.024667933583259583},\n",
       "  3: {'acc_top1_scalar': 0.3529411852359772,\n",
       "   'acc_topk_scalar': 0.5882353186607361,\n",
       "   'persistency_top1_scalar': 0.44212520122528076,\n",
       "   'persistency_topk_scalar': 0.08349145948886871,\n",
       "   'consistency_top1_scalar': 0.3529411852359772,\n",
       "   'consistency_topk_scalar': 0.5882353186607361,\n",
       "   'earliness_top1_scalar': 0.0,\n",
       "   'earliness_topk_scalar': 0.0037950698751956224},\n",
       "  4: {'acc_top1_scalar': 0.5882353186607361,\n",
       "   'acc_topk_scalar': 0.7058823704719543,\n",
       "   'persistency_top1_scalar': 0.4952561557292938,\n",
       "   'persistency_topk_scalar': 0.09297912567853928,\n",
       "   'consistency_top1_scalar': 0.5300653576850891,\n",
       "   'consistency_topk_scalar': 0.6970588564872742,\n",
       "   'earliness_top1_scalar': 0.151802659034729,\n",
       "   'earliness_topk_scalar': 0.18216319382190704},\n",
       "  5: {'acc_top1_scalar': 0.4117647111415863,\n",
       "   'acc_topk_scalar': 0.529411792755127,\n",
       "   'persistency_top1_scalar': 0.544592022895813,\n",
       "   'persistency_topk_scalar': 0.13851991295814514,\n",
       "   'consistency_top1_scalar': 0.36764705181121826,\n",
       "   'consistency_topk_scalar': 0.5098039507865906,\n",
       "   'earliness_top1_scalar': 0.005692601203918457,\n",
       "   'earliness_topk_scalar': 0.01328273769468069},\n",
       "  6: {'acc_top1_scalar': 0.29411765933036804,\n",
       "   'acc_topk_scalar': 0.47058823704719543,\n",
       "   'persistency_top1_scalar': 0.43073999881744385,\n",
       "   'persistency_topk_scalar': 0.08349145948886871,\n",
       "   'consistency_top1_scalar': 0.29411765933036804,\n",
       "   'consistency_topk_scalar': 0.47058823704719543,\n",
       "   'earliness_top1_scalar': 0.0,\n",
       "   'earliness_topk_scalar': 0.0037950698751956224},\n",
       "  7: {'acc_top1_scalar': 0.529411792755127,\n",
       "   'acc_topk_scalar': 0.6470588445663452,\n",
       "   'persistency_top1_scalar': 0.46869075298309326,\n",
       "   'persistency_topk_scalar': 0.07969638705253601,\n",
       "   'consistency_top1_scalar': 0.5130718946456909,\n",
       "   'consistency_topk_scalar': 0.638655424118042,\n",
       "   'earliness_top1_scalar': 0.03795066475868225,\n",
       "   'earliness_topk_scalar': 0.049335867166519165},\n",
       "  8: {'acc_top1_scalar': 0.05882352963089943,\n",
       "   'acc_topk_scalar': 0.11764705926179886,\n",
       "   'persistency_top1_scalar': 0.567362368106842,\n",
       "   'persistency_topk_scalar': 0.08918405324220657,\n",
       "   'consistency_top1_scalar': 0.003921568859368563,\n",
       "   'consistency_topk_scalar': 0.0882352963089943,\n",
       "   'earliness_top1_scalar': 0.026565464213490486,\n",
       "   'earliness_topk_scalar': 0.028462998569011688},\n",
       "  9: {'acc_top1_scalar': 0.4117647111415863,\n",
       "   'acc_topk_scalar': 0.5882353186607361,\n",
       "   'persistency_top1_scalar': 0.48576849699020386,\n",
       "   'persistency_topk_scalar': 0.08538899570703506,\n",
       "   'consistency_top1_scalar': 0.34558823704719543,\n",
       "   'consistency_topk_scalar': 0.5882353186607361,\n",
       "   'earliness_top1_scalar': 0.026565467938780785,\n",
       "   'earliness_topk_scalar': 0.03036053664982319},\n",
       "  10: {'acc_top1_scalar': 0.23529411852359772,\n",
       "   'acc_topk_scalar': 0.6470588445663452,\n",
       "   'persistency_top1_scalar': 0.4212523400783539,\n",
       "   'persistency_topk_scalar': 0.08728652447462082,\n",
       "   'consistency_top1_scalar': 0.23529411852359772,\n",
       "   'consistency_topk_scalar': 0.6470588445663452,\n",
       "   'earliness_top1_scalar': 0.0018975349375978112,\n",
       "   'earliness_topk_scalar': 0.011385202407836914},\n",
       "  11: {'acc_top1_scalar': 0.1764705926179886,\n",
       "   'acc_topk_scalar': 0.47058823704719543,\n",
       "   'persistency_top1_scalar': 0.5407969951629639,\n",
       "   'persistency_topk_scalar': 0.09867171943187714,\n",
       "   'consistency_top1_scalar': 0.08627451211214066,\n",
       "   'consistency_topk_scalar': 0.4582633078098297,\n",
       "   'earliness_top1_scalar': 0.03036053106188774,\n",
       "   'earliness_topk_scalar': 0.06072106212377548},\n",
       "  12: {'acc_top1_scalar': 0.1764705926179886,\n",
       "   'acc_topk_scalar': 0.4117647111415863,\n",
       "   'persistency_top1_scalar': 0.49905121326446533,\n",
       "   'persistency_topk_scalar': 0.08728653192520142,\n",
       "   'consistency_top1_scalar': 0.13725489377975464,\n",
       "   'consistency_topk_scalar': 0.3314075767993927,\n",
       "   'earliness_top1_scalar': 0.009487667120993137,\n",
       "   'earliness_topk_scalar': 0.0759013295173645},\n",
       "  13: {'acc_top1_scalar': 0.47058823704719543,\n",
       "   'acc_topk_scalar': 0.6470588445663452,\n",
       "   'persistency_top1_scalar': 0.4952561557292938,\n",
       "   'persistency_topk_scalar': 0.10436432808637619,\n",
       "   'consistency_top1_scalar': 0.44117647409439087,\n",
       "   'consistency_topk_scalar': 0.6176470518112183,\n",
       "   'earliness_top1_scalar': 0.011385209858417511,\n",
       "   'earliness_topk_scalar': 0.01897534541785717},\n",
       "  14: {'acc_top1_scalar': 0.47058823704719543,\n",
       "   'acc_topk_scalar': 0.5882353186607361,\n",
       "   'persistency_top1_scalar': 0.5028462409973145,\n",
       "   'persistency_topk_scalar': 0.08538898825645447,\n",
       "   'consistency_top1_scalar': 0.47058823704719543,\n",
       "   'consistency_topk_scalar': 0.5882353186607361,\n",
       "   'earliness_top1_scalar': 0.0018975349375978112,\n",
       "   'earliness_topk_scalar': 0.011385209858417511},\n",
       "  15: {'acc_top1_scalar': 0.1764705926179886,\n",
       "   'acc_topk_scalar': 0.4117647111415863,\n",
       "   'persistency_top1_scalar': 0.5275142788887024,\n",
       "   'persistency_topk_scalar': 0.08159392327070236,\n",
       "   'consistency_top1_scalar': 0.13235294818878174,\n",
       "   'consistency_topk_scalar': 0.4117647111415863,\n",
       "   'earliness_top1_scalar': 0.013282733969390392,\n",
       "   'earliness_topk_scalar': 0.01707780361175537},\n",
       "  16: {'acc_top1_scalar': 0.29411765933036804,\n",
       "   'acc_topk_scalar': 0.3529411852359772,\n",
       "   'persistency_top1_scalar': 0.5483870506286621,\n",
       "   'persistency_topk_scalar': 0.09867172688245773,\n",
       "   'consistency_top1_scalar': 0.2867647111415863,\n",
       "   'consistency_topk_scalar': 0.3529411852359772,\n",
       "   'earliness_top1_scalar': 0.013282733969390392,\n",
       "   'earliness_topk_scalar': 0.013282733969390392},\n",
       "  17: {'acc_top1_scalar': 0.3529411852359772,\n",
       "   'acc_topk_scalar': 0.4117647111415863,\n",
       "   'persistency_top1_scalar': 0.43833017349243164,\n",
       "   'persistency_topk_scalar': 0.09108158946037292,\n",
       "   'consistency_top1_scalar': 0.21078431606292725,\n",
       "   'consistency_topk_scalar': 0.3592436909675598,\n",
       "   'earliness_top1_scalar': 0.0796964019536972,\n",
       "   'earliness_topk_scalar': 0.12903226912021637},\n",
       "  18: {'acc_top1_scalar': 0.29411765933036804,\n",
       "   'acc_topk_scalar': 0.4117647111415863,\n",
       "   'persistency_top1_scalar': 0.49715372920036316,\n",
       "   'persistency_topk_scalar': 0.0759013295173645,\n",
       "   'consistency_top1_scalar': 0.29411765933036804,\n",
       "   'consistency_topk_scalar': 0.4117647111415863,\n",
       "   'earliness_top1_scalar': 0.0,\n",
       "   'earliness_topk_scalar': 0.009487674571573734},\n",
       "  19: {'acc_top1_scalar': 0.29411765933036804,\n",
       "   'acc_topk_scalar': 0.5882353186607361,\n",
       "   'persistency_top1_scalar': 0.529411792755127,\n",
       "   'persistency_topk_scalar': 0.09487665444612503,\n",
       "   'consistency_top1_scalar': 0.29411765933036804,\n",
       "   'consistency_topk_scalar': 0.5555555820465088,\n",
       "   'earliness_top1_scalar': 0.0,\n",
       "   'earliness_topk_scalar': 0.032258063554763794}},\n",
       " 'mean': {'acc_top1_scalar': 0.3352941254153848,\n",
       "  'acc_topk_scalar': 0.511764720454812,\n",
       "  'persistency_top1_scalar': 0.49060720205307007,\n",
       "  'persistency_topk_scalar': 0.09060720764100552,\n",
       "  'consistency_top1_scalar': 0.30327986071351914,\n",
       "  'consistency_topk_scalar': 0.491633415594697,\n",
       "  'earliness_top1_scalar': 0.021442126866895707,\n",
       "  'earliness_topk_scalar': 0.03719165551010519}}"
      ]
     },
     "execution_count": 17,
     "metadata": {},
     "output_type": "execute_result"
    }
   ],
   "source": [
    "get_carry_over_safe_with_embedding(hf_df, topk=5, prefix='layers.')"
   ]
  },
  {
   "cell_type": "code",
   "execution_count": 18,
   "id": "f6eb5788",
   "metadata": {},
   "outputs": [
    {
     "data": {
      "text/plain": [
       "Index(['prompt_id', 'prompt_text', 'layer_index', 'layer_name', 'seq_len',\n",
       "       'vocab_size', 'topk_pred_tokens_seq', 'preds_seq', 'top1_mean_prob',\n",
       "       'topk_mean_prob', 'logit_mean', 'logit_std_mean', 'logit_var_mean',\n",
       "       'prob_mean', 'prob_std_mean', 'prob_var_mean', 'entropy_seq',\n",
       "       'normalized_entropy_seq', 'correct_1_seq', 'correct_topk_seq', 'ece',\n",
       "       'ngram_correct_2_seq', 'ngram_correct_3_seq', 'repetition_ratio',\n",
       "       'logits', 'input_ids', 'target_ids'],\n",
       "      dtype='object')"
      ]
     },
     "execution_count": 18,
     "metadata": {},
     "output_type": "execute_result"
    }
   ],
   "source": [
    "hf_df.columns"
   ]
  },
  {
   "cell_type": "code",
   "execution_count": null,
   "id": "3ad389e0",
   "metadata": {},
   "outputs": [],
   "source": [
    "hf_df[\"layer_name\"].unique()"
   ]
  },
  {
   "cell_type": "code",
   "execution_count": 20,
   "id": "96f4cc91",
   "metadata": {},
   "outputs": [
    {
     "data": {
      "text/html": [
       "<div>\n",
       "<style scoped>\n",
       "    .dataframe tbody tr th:only-of-type {\n",
       "        vertical-align: middle;\n",
       "    }\n",
       "\n",
       "    .dataframe tbody tr th {\n",
       "        vertical-align: top;\n",
       "    }\n",
       "\n",
       "    .dataframe thead th {\n",
       "        text-align: right;\n",
       "    }\n",
       "</style>\n",
       "<table border=\"1\" class=\"dataframe\">\n",
       "  <thead>\n",
       "    <tr style=\"text-align: right;\">\n",
       "      <th></th>\n",
       "      <th>prompt_id</th>\n",
       "      <th>prompt_text</th>\n",
       "      <th>layer_index</th>\n",
       "      <th>layer_name</th>\n",
       "      <th>seq_len</th>\n",
       "      <th>vocab_size</th>\n",
       "      <th>topk_pred_tokens_seq</th>\n",
       "      <th>preds_seq</th>\n",
       "      <th>top1_mean_prob</th>\n",
       "      <th>topk_mean_prob</th>\n",
       "      <th>...</th>\n",
       "      <th>normalized_entropy_seq</th>\n",
       "      <th>correct_1_seq</th>\n",
       "      <th>correct_topk_seq</th>\n",
       "      <th>ece</th>\n",
       "      <th>ngram_correct_2_seq</th>\n",
       "      <th>ngram_correct_3_seq</th>\n",
       "      <th>repetition_ratio</th>\n",
       "      <th>logits</th>\n",
       "      <th>input_ids</th>\n",
       "      <th>target_ids</th>\n",
       "    </tr>\n",
       "  </thead>\n",
       "  <tbody>\n",
       "    <tr>\n",
       "      <th>0</th>\n",
       "      <td>0</td>\n",
       "      <td>when did richmond last play in a preliminary f...</td>\n",
       "      <td>0</td>\n",
       "      <td>embed_tokens</td>\n",
       "      <td>17</td>\n",
       "      <td>128000</td>\n",
       "      <td>[[8157, 1601, 75248, 52105, 27014], [78142, 36...</td>\n",
       "      <td>[8157, 78142, 539, 304, 26577, 478, 13, 68025,...</td>\n",
       "      <td>0.018687</td>\n",
       "      <td>0.006148</td>\n",
       "      <td>...</td>\n",
       "      <td>[0.8536966443061829, 0.8598365783691406, 0.690...</td>\n",
       "      <td>[0.0, 0.0, 0.0, 0.0, 0.0, 0.0, 0.0, 0.0, 0.0, ...</td>\n",
       "      <td>[0.0, 0.0, 0.0, 0.0, 0.0, 0.0, 0.0, 0.0, 0.0, ...</td>\n",
       "      <td>0.018687</td>\n",
       "      <td>[0, 0, 0, 0, 0, 0, 0, 0, 0, 0, 0, 0, 0, 0, 0, 0]</td>\n",
       "      <td>[0, 0, 0, 0, 0, 0, 0, 0, 0, 0, 0, 0, 0, 0, 0]</td>\n",
       "      <td>0.3125</td>\n",
       "      <td>[[tensor(-2.6243), tensor(-1.9217), tensor(-1....</td>\n",
       "      <td>[tensor(0), tensor(1), tensor(2), tensor(3), t...</td>\n",
       "      <td>[tensor(279), tensor(279), tensor(1274), tenso...</td>\n",
       "    </tr>\n",
       "    <tr>\n",
       "      <th>1</th>\n",
       "      <td>0</td>\n",
       "      <td>when did richmond last play in a preliminary f...</td>\n",
       "      <td>1</td>\n",
       "      <td>layers.0.self_attn</td>\n",
       "      <td>17</td>\n",
       "      <td>128000</td>\n",
       "      <td>[[8157, 52105, 1601, 30885, 75248], [13852, 30...</td>\n",
       "      <td>[8157, 13852, 539, 35517, 90646, 365, 25, 2746...</td>\n",
       "      <td>0.013611</td>\n",
       "      <td>0.006437</td>\n",
       "      <td>...</td>\n",
       "      <td>[0.8585053086280823, 0.8094022274017334, 0.808...</td>\n",
       "      <td>[0.0, 0.0, 0.0, 0.0, 0.0, 0.0, 0.0, 0.0, 0.0, ...</td>\n",
       "      <td>[0.0, 0.0, 0.0, 0.0, 0.0, 0.0, 0.0, 0.0, 0.0, ...</td>\n",
       "      <td>0.013611</td>\n",
       "      <td>[0, 0, 0, 0, 0, 0, 0, 0, 0, 0, 0, 0, 0, 0, 0, 0]</td>\n",
       "      <td>[0, 0, 0, 0, 0, 0, 0, 0, 0, 0, 0, 0, 0, 0, 0]</td>\n",
       "      <td>0.3125</td>\n",
       "      <td>[[tensor(-1.9366), tensor(-1.4553), tensor(-1....</td>\n",
       "      <td>[tensor(0), tensor(1), tensor(2), tensor(3), t...</td>\n",
       "      <td>[tensor(279), tensor(279), tensor(1274), tenso...</td>\n",
       "    </tr>\n",
       "    <tr>\n",
       "      <th>2</th>\n",
       "      <td>0</td>\n",
       "      <td>when did richmond last play in a preliminary f...</td>\n",
       "      <td>2</td>\n",
       "      <td>layers.0.mlp</td>\n",
       "      <td>17</td>\n",
       "      <td>128000</td>\n",
       "      <td>[[78321, 75248, 11881, 38596, 81913], [20693, ...</td>\n",
       "      <td>[78321, 20693, 539, 15638, 90646, 48300, 33583...</td>\n",
       "      <td>0.060587</td>\n",
       "      <td>0.017295</td>\n",
       "      <td>...</td>\n",
       "      <td>[0.8441224694252014, 0.8093522191047668, 0.261...</td>\n",
       "      <td>[0.0, 0.0, 0.0, 0.0, 0.0, 0.0, 0.0, 0.0, 0.0, ...</td>\n",
       "      <td>[0.0, 0.0, 0.0, 0.0, 0.0, 0.0, 0.0, 0.0, 0.0, ...</td>\n",
       "      <td>0.060587</td>\n",
       "      <td>[0, 0, 0, 0, 0, 0, 0, 0, 0, 0, 0, 0, 0, 0, 0, 0]</td>\n",
       "      <td>[0, 0, 0, 0, 0, 0, 0, 0, 0, 0, 0, 0, 0, 0, 0]</td>\n",
       "      <td>0.1875</td>\n",
       "      <td>[[tensor(-0.2932), tensor(-0.8723), tensor(-2....</td>\n",
       "      <td>[tensor(0), tensor(1), tensor(2), tensor(3), t...</td>\n",
       "      <td>[tensor(279), tensor(279), tensor(1274), tenso...</td>\n",
       "    </tr>\n",
       "    <tr>\n",
       "      <th>3</th>\n",
       "      <td>0</td>\n",
       "      <td>when did richmond last play in a preliminary f...</td>\n",
       "      <td>3</td>\n",
       "      <td>layers.0</td>\n",
       "      <td>17</td>\n",
       "      <td>128000</td>\n",
       "      <td>[[78321, 75248, 11881, 38596, 81913], [20693, ...</td>\n",
       "      <td>[78321, 20693, 539, 15638, 90646, 48300, 33583...</td>\n",
       "      <td>0.060587</td>\n",
       "      <td>0.017295</td>\n",
       "      <td>...</td>\n",
       "      <td>[0.8441224694252014, 0.8093522191047668, 0.261...</td>\n",
       "      <td>[0.0, 0.0, 0.0, 0.0, 0.0, 0.0, 0.0, 0.0, 0.0, ...</td>\n",
       "      <td>[0.0, 0.0, 0.0, 0.0, 0.0, 0.0, 0.0, 0.0, 0.0, ...</td>\n",
       "      <td>0.060587</td>\n",
       "      <td>[0, 0, 0, 0, 0, 0, 0, 0, 0, 0, 0, 0, 0, 0, 0, 0]</td>\n",
       "      <td>[0, 0, 0, 0, 0, 0, 0, 0, 0, 0, 0, 0, 0, 0, 0]</td>\n",
       "      <td>0.1875</td>\n",
       "      <td>[[tensor(-0.2932), tensor(-0.8723), tensor(-2....</td>\n",
       "      <td>[tensor(0), tensor(1), tensor(2), tensor(3), t...</td>\n",
       "      <td>[tensor(279), tensor(279), tensor(1274), tenso...</td>\n",
       "    </tr>\n",
       "    <tr>\n",
       "      <th>4</th>\n",
       "      <td>0</td>\n",
       "      <td>when did richmond last play in a preliminary f...</td>\n",
       "      <td>4</td>\n",
       "      <td>layers.1.self_attn</td>\n",
       "      <td>17</td>\n",
       "      <td>128000</td>\n",
       "      <td>[[117054, 30952, 126459, 91871, 63643], [43577...</td>\n",
       "      <td>[117054, 43577, 539, 893, 90646, 48300, 1797, ...</td>\n",
       "      <td>0.028503</td>\n",
       "      <td>0.008836</td>\n",
       "      <td>...</td>\n",
       "      <td>[0.9160845279693604, 0.8508396148681641, 0.568...</td>\n",
       "      <td>[0.0, 0.0, 0.0, 0.0, 0.0, 0.0, 0.0, 0.0, 0.0, ...</td>\n",
       "      <td>[0.0, 0.0, 0.0, 0.0, 0.0, 0.0, 0.0, 0.0, 0.0, ...</td>\n",
       "      <td>0.028503</td>\n",
       "      <td>[0, 0, 0, 0, 0, 0, 0, 0, 0, 0, 0, 0, 0, 0, 0, 0]</td>\n",
       "      <td>[0, 0, 0, 0, 0, 0, 0, 0, 0, 0, 0, 0, 0, 0, 0]</td>\n",
       "      <td>0.1250</td>\n",
       "      <td>[[tensor(1.7907), tensor(0.8550), tensor(1.499...</td>\n",
       "      <td>[tensor(0), tensor(1), tensor(2), tensor(3), t...</td>\n",
       "      <td>[tensor(279), tensor(279), tensor(1274), tenso...</td>\n",
       "    </tr>\n",
       "  </tbody>\n",
       "</table>\n",
       "<p>5 rows × 27 columns</p>\n",
       "</div>"
      ],
      "text/plain": [
       "   prompt_id                                        prompt_text  layer_index  \\\n",
       "0          0  when did richmond last play in a preliminary f...            0   \n",
       "1          0  when did richmond last play in a preliminary f...            1   \n",
       "2          0  when did richmond last play in a preliminary f...            2   \n",
       "3          0  when did richmond last play in a preliminary f...            3   \n",
       "4          0  when did richmond last play in a preliminary f...            4   \n",
       "\n",
       "           layer_name  seq_len  vocab_size  \\\n",
       "0        embed_tokens       17      128000   \n",
       "1  layers.0.self_attn       17      128000   \n",
       "2        layers.0.mlp       17      128000   \n",
       "3            layers.0       17      128000   \n",
       "4  layers.1.self_attn       17      128000   \n",
       "\n",
       "                                topk_pred_tokens_seq  \\\n",
       "0  [[8157, 1601, 75248, 52105, 27014], [78142, 36...   \n",
       "1  [[8157, 52105, 1601, 30885, 75248], [13852, 30...   \n",
       "2  [[78321, 75248, 11881, 38596, 81913], [20693, ...   \n",
       "3  [[78321, 75248, 11881, 38596, 81913], [20693, ...   \n",
       "4  [[117054, 30952, 126459, 91871, 63643], [43577...   \n",
       "\n",
       "                                           preds_seq  top1_mean_prob  \\\n",
       "0  [8157, 78142, 539, 304, 26577, 478, 13, 68025,...        0.018687   \n",
       "1  [8157, 13852, 539, 35517, 90646, 365, 25, 2746...        0.013611   \n",
       "2  [78321, 20693, 539, 15638, 90646, 48300, 33583...        0.060587   \n",
       "3  [78321, 20693, 539, 15638, 90646, 48300, 33583...        0.060587   \n",
       "4  [117054, 43577, 539, 893, 90646, 48300, 1797, ...        0.028503   \n",
       "\n",
       "   topk_mean_prob  ...                             normalized_entropy_seq  \\\n",
       "0        0.006148  ...  [0.8536966443061829, 0.8598365783691406, 0.690...   \n",
       "1        0.006437  ...  [0.8585053086280823, 0.8094022274017334, 0.808...   \n",
       "2        0.017295  ...  [0.8441224694252014, 0.8093522191047668, 0.261...   \n",
       "3        0.017295  ...  [0.8441224694252014, 0.8093522191047668, 0.261...   \n",
       "4        0.008836  ...  [0.9160845279693604, 0.8508396148681641, 0.568...   \n",
       "\n",
       "                                       correct_1_seq  \\\n",
       "0  [0.0, 0.0, 0.0, 0.0, 0.0, 0.0, 0.0, 0.0, 0.0, ...   \n",
       "1  [0.0, 0.0, 0.0, 0.0, 0.0, 0.0, 0.0, 0.0, 0.0, ...   \n",
       "2  [0.0, 0.0, 0.0, 0.0, 0.0, 0.0, 0.0, 0.0, 0.0, ...   \n",
       "3  [0.0, 0.0, 0.0, 0.0, 0.0, 0.0, 0.0, 0.0, 0.0, ...   \n",
       "4  [0.0, 0.0, 0.0, 0.0, 0.0, 0.0, 0.0, 0.0, 0.0, ...   \n",
       "\n",
       "                                    correct_topk_seq       ece  \\\n",
       "0  [0.0, 0.0, 0.0, 0.0, 0.0, 0.0, 0.0, 0.0, 0.0, ...  0.018687   \n",
       "1  [0.0, 0.0, 0.0, 0.0, 0.0, 0.0, 0.0, 0.0, 0.0, ...  0.013611   \n",
       "2  [0.0, 0.0, 0.0, 0.0, 0.0, 0.0, 0.0, 0.0, 0.0, ...  0.060587   \n",
       "3  [0.0, 0.0, 0.0, 0.0, 0.0, 0.0, 0.0, 0.0, 0.0, ...  0.060587   \n",
       "4  [0.0, 0.0, 0.0, 0.0, 0.0, 0.0, 0.0, 0.0, 0.0, ...  0.028503   \n",
       "\n",
       "                                ngram_correct_2_seq  \\\n",
       "0  [0, 0, 0, 0, 0, 0, 0, 0, 0, 0, 0, 0, 0, 0, 0, 0]   \n",
       "1  [0, 0, 0, 0, 0, 0, 0, 0, 0, 0, 0, 0, 0, 0, 0, 0]   \n",
       "2  [0, 0, 0, 0, 0, 0, 0, 0, 0, 0, 0, 0, 0, 0, 0, 0]   \n",
       "3  [0, 0, 0, 0, 0, 0, 0, 0, 0, 0, 0, 0, 0, 0, 0, 0]   \n",
       "4  [0, 0, 0, 0, 0, 0, 0, 0, 0, 0, 0, 0, 0, 0, 0, 0]   \n",
       "\n",
       "                             ngram_correct_3_seq repetition_ratio  \\\n",
       "0  [0, 0, 0, 0, 0, 0, 0, 0, 0, 0, 0, 0, 0, 0, 0]           0.3125   \n",
       "1  [0, 0, 0, 0, 0, 0, 0, 0, 0, 0, 0, 0, 0, 0, 0]           0.3125   \n",
       "2  [0, 0, 0, 0, 0, 0, 0, 0, 0, 0, 0, 0, 0, 0, 0]           0.1875   \n",
       "3  [0, 0, 0, 0, 0, 0, 0, 0, 0, 0, 0, 0, 0, 0, 0]           0.1875   \n",
       "4  [0, 0, 0, 0, 0, 0, 0, 0, 0, 0, 0, 0, 0, 0, 0]           0.1250   \n",
       "\n",
       "                                              logits  \\\n",
       "0  [[tensor(-2.6243), tensor(-1.9217), tensor(-1....   \n",
       "1  [[tensor(-1.9366), tensor(-1.4553), tensor(-1....   \n",
       "2  [[tensor(-0.2932), tensor(-0.8723), tensor(-2....   \n",
       "3  [[tensor(-0.2932), tensor(-0.8723), tensor(-2....   \n",
       "4  [[tensor(1.7907), tensor(0.8550), tensor(1.499...   \n",
       "\n",
       "                                           input_ids  \\\n",
       "0  [tensor(0), tensor(1), tensor(2), tensor(3), t...   \n",
       "1  [tensor(0), tensor(1), tensor(2), tensor(3), t...   \n",
       "2  [tensor(0), tensor(1), tensor(2), tensor(3), t...   \n",
       "3  [tensor(0), tensor(1), tensor(2), tensor(3), t...   \n",
       "4  [tensor(0), tensor(1), tensor(2), tensor(3), t...   \n",
       "\n",
       "                                          target_ids  \n",
       "0  [tensor(279), tensor(279), tensor(1274), tenso...  \n",
       "1  [tensor(279), tensor(279), tensor(1274), tenso...  \n",
       "2  [tensor(279), tensor(279), tensor(1274), tenso...  \n",
       "3  [tensor(279), tensor(279), tensor(1274), tenso...  \n",
       "4  [tensor(279), tensor(279), tensor(1274), tenso...  \n",
       "\n",
       "[5 rows x 27 columns]"
      ]
     },
     "execution_count": 20,
     "metadata": {},
     "output_type": "execute_result"
    }
   ],
   "source": [
    "hf_df.head()"
   ]
  },
  {
   "cell_type": "code",
   "execution_count": 19,
   "id": "fe2a936b",
   "metadata": {},
   "outputs": [
    {
     "data": {
      "text/plain": [
       "prompt_id                 0\n",
       "prompt_text               0\n",
       "layer_index               0\n",
       "layer_name                0\n",
       "seq_len                   0\n",
       "vocab_size                0\n",
       "topk_pred_tokens_seq      0\n",
       "preds_seq                 0\n",
       "top1_mean_prob            0\n",
       "topk_mean_prob            0\n",
       "logit_mean                0\n",
       "logit_std_mean            0\n",
       "logit_var_mean            0\n",
       "prob_mean                 0\n",
       "prob_std_mean             0\n",
       "prob_var_mean             0\n",
       "entropy_seq               0\n",
       "normalized_entropy_seq    0\n",
       "correct_1_seq             0\n",
       "correct_topk_seq          0\n",
       "ece                       0\n",
       "ngram_correct_2_seq       0\n",
       "ngram_correct_3_seq       0\n",
       "repetition_ratio          0\n",
       "logits                    0\n",
       "input_ids                 0\n",
       "target_ids                0\n",
       "dtype: int64"
      ]
     },
     "execution_count": 19,
     "metadata": {},
     "output_type": "execute_result"
    }
   ],
   "source": [
    "hf_df.isna().sum()"
   ]
  },
  {
   "cell_type": "code",
   "execution_count": null,
   "id": "b3c81966",
   "metadata": {},
   "outputs": [],
   "source": [
    "pos_inf_counts = hf_df.apply(lambda col: (col == np.inf).sum())\n",
    "neg_inf_counts = hf_df.apply(lambda col: (col == -np.inf).sum())\n",
    "print(f\"{neg_inf_counts}\\n{pos_inf_counts}\")"
   ]
  },
  {
   "cell_type": "code",
   "execution_count": null,
   "id": "a901f94f",
   "metadata": {},
   "outputs": [],
   "source": [
    "#model.save_pretrained(\"Models/\", safe_serialization=True)\n",
    "#tokenizer.save_pretrained(\"Models/\")"
   ]
  }
 ],
 "metadata": {
  "kernelspec": {
   "display_name": "logit-lens-env",
   "language": "python",
   "name": "python3"
  },
  "language_info": {
   "codemirror_mode": {
    "name": "ipython",
    "version": 3
   },
   "file_extension": ".py",
   "mimetype": "text/x-python",
   "name": "python",
   "nbconvert_exporter": "python",
   "pygments_lexer": "ipython3",
   "version": "3.10.12"
  }
 },
 "nbformat": 4,
 "nbformat_minor": 5
}
